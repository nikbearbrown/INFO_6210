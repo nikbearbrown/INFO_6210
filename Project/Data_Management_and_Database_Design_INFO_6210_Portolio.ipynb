{
 "cells": [
  {
   "cell_type": "markdown",
   "metadata": {},
   "source": [
    "# Data Management and Database Design INFO 6210 :: Portfolio"
   ]
  },
  {
   "cell_type": "markdown",
   "metadata": {},
   "source": [
    "## Portfolio -  (100 Points)"
   ]
  },
  {
   "attachments": {},
   "cell_type": "markdown",
   "metadata": {},
   "source": [
    "**Portfolio - 100 points**\n",
    "\n",
    "_Due April 21, 2018_  \n",
    "\n",
    "The following breakdown will be used for determining the final course grade: \n",
    "\n",
    "* Exam\t10%   \n",
    "* Assignments\t50%   \n",
    "* Database Project One*\t15%  \n",
    "* Database Project Two*\t15%   \n",
    "* Portfolio\t10%  \n",
    "\n",
    "For your Portfolio (10%) you will:\n",
    "\n",
    "**Write a technical blog in a jupyter notebook teaching a COE Masters student how to create a database**    \n",
    "\n",
    "You can think of the technical blog as the write up of your database.  \n",
    "\n",
    "The blog should:\n",
    "\n",
    "* Be focused on _teaching_ a student coming to INFO 6210 how to create a database   \n",
    "* The database should be related to your project   \n",
    "* Students working alone on the project can explain how to create EITHER the SQL or NoSQL database created for the project  \n",
    "* Groups of two or more can work together but must produce two blogs.  One for the SQL and one for the NoSQL databased created for the projecto tut \n",
    "*  Learning python or linux should NOT be part of the blog but rather links to the tutorials you used should be included as an appendix.  The blog should focus on the creation of the database.   \n"
   ]
  },
  {
   "cell_type": "markdown",
   "metadata": {},
   "source": [
    "## Grading Rubric"
   ]
  },
  {
   "cell_type": "markdown",
   "metadata": {},
   "source": [
    "Grading for the first two sections will be rated on a one to five star scale by the Professor and at least two TAs.  The blog is about  _teaching_ a student coming to INFO 6210 how to create a database.     \n",
    "\n",
    "**Technical explanation (one to five star scale) (50 Points)**\n",
    "\n",
    "_How well are the technical details explained?  Could a NEU Master's student in the College of Engineering replicate your databases based on your write up?_\n",
    "\n",
    "**Design explanation (one to five star scale) (20 Points)**\n",
    "\n",
    "_How well are the design decisions explained?  Could a NEU Master's student in the College of Engineering understand your design choices?_\n",
    "\n",
    "For the above; the average scores for the graders will be used to scale the points. For example, if the average score is 4 of 5 stars (80%) on the _Technical explanation_ (50 Points)  then the score would be 0.8 times 50 or 40 points.  \n",
    "\n",
    "**Code and data (20 Points)**\n",
    "\n",
    "Is there enough well documented code and data to replicate the work? Not all of the data is needed. Just a sample, that allows someone to build it.  \n",
    "\n",
    "** The license (10 Points)**\n",
    "\n",
    "Your licensing of the code and words MUST be explicit.  The license is your choice but it MUST be explicit.\n",
    "\n",
    "The [MIT License](https://opensource.org/licenses/MIT) is recommended for the code.  \n",
    "\n",
    "The [Creative Commons Attribution 3.0](https://creativecommons.org/licenses/by/3.0/us/) is recommended for the writing.   \n",
    "  "
   ]
  },
  {
   "cell_type": "markdown",
   "metadata": {},
   "source": [
    "Update March 31, 2018"
   ]
  }
 ],
 "metadata": {
  "kernelspec": {
   "display_name": "Python 3",
   "language": "python",
   "name": "python3"
  },
  "language_info": {
   "codemirror_mode": {
    "name": "ipython",
    "version": 3
   },
   "file_extension": ".py",
   "mimetype": "text/x-python",
   "name": "python",
   "nbconvert_exporter": "python",
   "pygments_lexer": "ipython3",
   "version": "3.6.1"
  }
 },
 "nbformat": 4,
 "nbformat_minor": 2
}
