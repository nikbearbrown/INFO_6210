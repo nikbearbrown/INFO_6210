{
 "cells": [
  {
   "cell_type": "code",
   "execution_count": null,
   "metadata": {
    "collapsed": true
   },
   "outputs": [],
   "source": [
    "################################################################################################################################"
   ]
  },
  {
   "cell_type": "code",
   "execution_count": 9,
   "metadata": {
    "collapsed": true
   },
   "outputs": [],
   "source": [
    "#7 Tag Table\n",
    "import pandas as pd\n",
    "tags = ['Jazz', 'Rock', 'Pop', 'Blues', 'Folk', 'World', 'Country', 'Funk', 'Soul', 'Pop','Reggae', 'Electronic' ]  \n",
    "tag_df = pd.DataFrame({'tags': tags})\n",
    "\n",
    "# tag_df"
   ]
  },
  {
   "cell_type": "code",
   "execution_count": 10,
   "metadata": {
    "collapsed": true
   },
   "outputs": [],
   "source": [
    "#CSV Tags {tags}\n",
    "tag_df.to_csv(\"tags.csv\", index= False)"
   ]
  },
  {
   "cell_type": "code",
   "execution_count": 11,
   "metadata": {
    "collapsed": true
   },
   "outputs": [],
   "source": [
    "#1 Csv Read Artist {artist_id, artist_names}\n",
    "import pandas\n",
    "artist_names = pandas.read_csv(\"C:/Users/Girijesh/Desktop/Project- DB/artist (1).csv\", index_col=  False, header= 0)"
   ]
  },
  {
   "cell_type": "code",
   "execution_count": 12,
   "metadata": {
    "collapsed": true
   },
   "outputs": [],
   "source": [
    "#2Fan Pages Read(artist_names, fan_pg_fbid, artist_id, art_nm(official fan page name))\n",
    "fan_page= pandas.read_csv(\"C:/Users/Girijesh/Desktop/Project- DB/fan_page.csv\", index_col=  False, header= 0)"
   ]
  },
  {
   "cell_type": "code",
   "execution_count": 13,
   "metadata": {
    "collapsed": true
   },
   "outputs": [],
   "source": [
    "#3 Read CSv Fan Page Count(fan_pg_fbid, fn_ct)\n",
    "fan_pg_ct = pandas.read_csv(\"C:/Users/Girijesh/Desktop/Project- DB/fan_ct.csv\", index_col=  False, header= 0)"
   ]
  },
  {
   "cell_type": "code",
   "execution_count": 14,
   "metadata": {
    "collapsed": true
   },
   "outputs": [],
   "source": [
    "#4 Read CSv Artist_post(created_id, post_id, message, fan_pg_fbid)\n",
    "xfart= pandas.read_csv(\"C:/Users/Girijesh/Desktop/Project- DB/artist_post.csv\", index_col=  False, header= 0,  encoding = \"ISO-8859-1\")\n"
   ]
  },
  {
   "cell_type": "code",
   "execution_count": 15,
   "metadata": {
    "collapsed": true
   },
   "outputs": [],
   "source": [
    "#5 Read Post Engagement\n",
    "d= pandas.read_csv(\"C:/Users/Girijesh/Desktop/Project- DB/post_eng_metric.csv\", index_col=  False, header= 0,  encoding = \"ISO-8859-1\")\n"
   ]
  },
  {
   "cell_type": "code",
   "execution_count": 16,
   "metadata": {
    "collapsed": true
   },
   "outputs": [],
   "source": [
    "#6 Influence Table{post_id, rel_eng}\n",
    "artist_infl = pandas.read_csv(\"C:/Users/Girijesh/Desktop/Project- DB/post_eng.csv\", index_col=  False, header= 0,  encoding = \"ISO-8859-1\")\n"
   ]
  },
  {
   "cell_type": "code",
   "execution_count": 17,
   "metadata": {
    "collapsed": true
   },
   "outputs": [],
   "source": [
    "xfart['post_likes'] = d['post_likes']\n",
    "xfart['post_comments'] = d['post_comments']\n",
    "xfart['post_shares'] = d['post_shares']\n",
    "xfart['relative_eng'] = artist_infl['rel_eng']"
   ]
  },
  {
   "cell_type": "code",
   "execution_count": 18,
   "metadata": {
    "collapsed": true
   },
   "outputs": [],
   "source": [
    "fan_count=[]\n",
    "for i in fan_pg_ct[\"fn_ct\"]:\n",
    "    flag=0\n",
    "    for j,row in xfart.iterrows():\n",
    "        if(flag<25):\n",
    "            fan_count.append(i)\n",
    "            flag=flag+1   "
   ]
  },
  {
   "cell_type": "code",
   "execution_count": 19,
   "metadata": {
    "collapsed": true
   },
   "outputs": [],
   "source": [
    "fan_pg_fbid1=[]\n",
    "for i in fan_pg_ct[\"fan_pg_fbid\"]:\n",
    "    flag=0\n",
    "    for j,row in xfart.iterrows():\n",
    "        if(flag<25):\n",
    "            fan_pg_fbid1.append(i)\n",
    "            flag=flag+1 "
   ]
  },
  {
   "cell_type": "code",
   "execution_count": 20,
   "metadata": {
    "collapsed": true
   },
   "outputs": [],
   "source": [
    "fan_pg_fbid1=[]\n",
    "for i in fan_pg_ct[\"fan_pg_fbid\"]:\n",
    "    flag=0\n",
    "    for j,row in xfart.iterrows():\n",
    "        if(flag<25):\n",
    "            fan_pg_fbid1.append(i)\n",
    "            flag=flag+1 "
   ]
  },
  {
   "cell_type": "code",
   "execution_count": 21,
   "metadata": {
    "collapsed": true
   },
   "outputs": [],
   "source": [
    "artist_names1=[]\n",
    "for i in fan_page[\"artist_names\"]:\n",
    "    flag=0\n",
    "    for j,row in xfart.iterrows():\n",
    "        if(flag<25):\n",
    "            artist_names1.append(i)\n",
    "            flag=flag+1 "
   ]
  },
  {
   "cell_type": "code",
   "execution_count": 22,
   "metadata": {
    "collapsed": true
   },
   "outputs": [],
   "source": [
    "artist_nm1=[]\n",
    "for i in fan_page[\"art_nm\"]:\n",
    "    flag=0\n",
    "    for j,row in xfart.iterrows():\n",
    "        if(flag<25):\n",
    "            artist_nm1.append(i)\n",
    "            flag=flag+1 "
   ]
  },
  {
   "cell_type": "code",
   "execution_count": 26,
   "metadata": {
    "collapsed": true
   },
   "outputs": [],
   "source": [
    "tag_ct= []\n",
    "for i in yy:\n",
    "    flag=0\n",
    "    for j in xfart.iterrows():\n",
    "        if(flag<25):\n",
    "            tag_ct.append(i)\n",
    "            flag= flag+1"
   ]
  },
  {
   "cell_type": "code",
   "execution_count": 27,
   "metadata": {
    "collapsed": true
   },
   "outputs": [],
   "source": [
    "fan_c1 = pd.Series(fan_count)\n",
    "fan_pg_fbid1 = pd.Series(fan_pg_fbid1)\n",
    "artist_names1 = pd.Series(artist_names1)\n",
    "artist_nm1 =pd.Series(artist_nm1)\n",
    "tag_ct= pd.Series(tag_ct)\n",
    "xfart['fan_count'] =fan_c1.values\n",
    "xfart['fan_pg_fbid']= fan_pg_fbid1.values\n",
    "xfart['artist_names1'] = artist_names1.values\n",
    "xfart['artist_fan_page_nm'] = artist_nm1.values\n",
    "xfart[\"tag_counts\"] = tag_ct.values"
   ]
  },
  {
   "cell_type": "markdown",
   "metadata": {
    "collapsed": true
   },
   "source": [
    "# # # # # # # # # # # # # # #  MUSICIANS DATABASE # # # # # # # # # # # # # # # # "
   ]
  },
  {
   "cell_type": "markdown",
   "metadata": {},
   "source": [
    "# Step1.Before installing MongoDb, I created all the tables required. i.e. Artist names, Artist Official Fan Pages, Artist posts, Artist Engagement Tables, Artist Relative Engagement Table. Secondly I merged all the tables together into one master table to query in Mongo DB"
   ]
  },
  {
   "cell_type": "markdown",
   "metadata": {},
   "source": [
    "# Step2.: I installed Pymongo. The pymongo module will connect the python notebook with Mongo DB with axilliary support of local host and port."
   ]
  },
  {
   "cell_type": "code",
   "execution_count": 219,
   "metadata": {},
   "outputs": [
    {
     "name": "stdout",
     "output_type": "stream",
     "text": [
      "Collecting pymongo\n",
      "  Downloading pymongo-3.6.1-cp36-cp36m-win_amd64.whl (291kB)\n",
      "Installing collected packages: pymongo\n",
      "Successfully installed pymongo-3.6.1\n"
     ]
    },
    {
     "name": "stderr",
     "output_type": "stream",
     "text": [
      "You are using pip version 9.0.1, however version 9.0.3 is available.\n",
      "You should consider upgrading via the 'python -m pip install --upgrade pip' command.\n"
     ]
    }
   ],
   "source": [
    "!pip install pymongo"
   ]
  },
  {
   "cell_type": "code",
   "execution_count": 220,
   "metadata": {},
   "outputs": [
    {
     "name": "stdout",
     "output_type": "stream",
     "text": [
      "Collecting pymongo==2.1.1\n",
      "  Downloading pymongo-2.1.1.tar.gz (199kB)\n",
      "    Complete output from command python setup.py egg_info:\n",
      "    Traceback (most recent call last):\n",
      "      File \"<string>\", line 1, in <module>\n",
      "      File \"C:\\Users\\Girijesh\\AppData\\Local\\Temp\\pip-build-zc4u32n7\\pymongo\\setup.py\", line 69\n",
      "        print \"\"\n",
      "               ^\n",
      "    SyntaxError: Missing parentheses in call to 'print'\n",
      "    \n",
      "    ----------------------------------------\n"
     ]
    },
    {
     "name": "stderr",
     "output_type": "stream",
     "text": [
      "Command \"python setup.py egg_info\" failed with error code 1 in C:\\Users\\Girijesh\\AppData\\Local\\Temp\\pip-build-zc4u32n7\\pymongo\\\n",
      "You are using pip version 9.0.1, however version 9.0.3 is available.\n",
      "You should consider upgrading via the 'python -m pip install --upgrade pip' command.\n"
     ]
    }
   ],
   "source": [
    "!pip install pymongo==2.1.1"
   ]
  },
  {
   "cell_type": "markdown",
   "metadata": {},
   "source": [
    "# !pip install --upgrade pymongo"
   ]
  },
  {
   "cell_type": "code",
   "execution_count": 223,
   "metadata": {},
   "outputs": [
    {
     "name": "stdout",
     "output_type": "stream",
     "text": [
      "Collecting pip\n",
      "  Downloading pip-9.0.3-py2.py3-none-any.whl (1.4MB)\n",
      "Installing collected packages: pip\n",
      "  Found existing installation: pip 9.0.1\n",
      "    Uninstalling pip-9.0.1:\n",
      "      Successfully uninstalled pip-9.0.1\n",
      "Successfully installed pip-9.0.3\n"
     ]
    }
   ],
   "source": [
    "!python -m pip install --upgrade pip"
   ]
  },
  {
   "cell_type": "markdown",
   "metadata": {},
   "source": [
    "# Step 3. From the command prompt I connected Mongodb server and created Mongo environment on my PC. Further this can be hosted for any application  (with the requesite modules)i.e on Studio 3T or python jupyter. "
   ]
  },
  {
   "cell_type": "markdown",
   "metadata": {},
   "source": [
    "# Step4. Connection made with the python Notebook by creating 'Local Host' set as default and port 27017 using pymongo module."
   ]
  },
  {
   "cell_type": "code",
   "execution_count": 1,
   "metadata": {
    "collapsed": true
   },
   "outputs": [],
   "source": [
    "import pymongo\n",
    "from pymongo import MongoClient\n",
    "client= MongoClient('LocalHost', 27017)"
   ]
  },
  {
   "cell_type": "code",
   "execution_count": 2,
   "metadata": {
    "collapsed": true
   },
   "outputs": [],
   "source": [
    "import collections"
   ]
  },
  {
   "cell_type": "markdown",
   "metadata": {},
   "source": [
    "# Step5. To create database in Mongo DB, the server i.e Client with host name and port was used which was created on Step 4 and was subsequently named and collections was named. "
   ]
  },
  {
   "cell_type": "code",
   "execution_count": 3,
   "metadata": {
    "collapsed": true
   },
   "outputs": [],
   "source": [
    "db = client.aristdb"
   ]
  },
  {
   "cell_type": "code",
   "execution_count": 4,
   "metadata": {
    "collapsed": true
   },
   "outputs": [],
   "source": [
    "coll_1 = db.dataset"
   ]
  },
  {
   "cell_type": "code",
   "execution_count": 5,
   "metadata": {},
   "outputs": [
    {
     "data": {
      "text/plain": [
       "['coll_1', 'coll1', 'coll']"
      ]
     },
     "execution_count": 5,
     "metadata": {},
     "output_type": "execute_result"
    }
   ],
   "source": [
    "db.collection_names(include_system_collections=False)"
   ]
  },
  {
   "cell_type": "code",
   "execution_count": 29,
   "metadata": {
    "collapsed": true
   },
   "outputs": [],
   "source": [
    "xfart.to_csv('xfart.csv')"
   ]
  },
  {
   "cell_type": "code",
   "execution_count": 6,
   "metadata": {},
   "outputs": [
    {
     "name": "stdout",
     "output_type": "stream",
     "text": [
      "{\"admin\": [\"system.version\"], \"aristdb\": [\"coll_1\", \"coll1\", \"coll\"], \"config\": [\"system.sessions\"], \"local\": [\"startup_log\"]}\n"
     ]
    }
   ],
   "source": [
    "import pymongo\n",
    "import json\n",
    "\n",
    "if __name__ == '__main__':\n",
    "    client = pymongo.MongoClient(\"localhost\", 27017, maxPoolSize=50)\n",
    "    d = dict((db, [collection for collection in client[db].collection_names()])\n",
    "             for db in client.database_names())\n",
    "    print(json.dumps(d))"
   ]
  },
  {
   "cell_type": "markdown",
   "metadata": {},
   "source": [
    "# Step6. Called up the master CSV file from python from defualt drive located for jupyter notebook."
   ]
  },
  {
   "cell_type": "code",
   "execution_count": 30,
   "metadata": {
    "scrolled": true
   },
   "outputs": [
    {
     "data": {
      "text/html": [
       "<div>\n",
       "<style>\n",
       "    .dataframe thead tr:only-child th {\n",
       "        text-align: right;\n",
       "    }\n",
       "\n",
       "    .dataframe thead th {\n",
       "        text-align: left;\n",
       "    }\n",
       "\n",
       "    .dataframe tbody tr th {\n",
       "        vertical-align: top;\n",
       "    }\n",
       "</style>\n",
       "<table border=\"1\" class=\"dataframe\">\n",
       "  <thead>\n",
       "    <tr style=\"text-align: right;\">\n",
       "      <th></th>\n",
       "      <th>created_id</th>\n",
       "      <th>post_id</th>\n",
       "      <th>message</th>\n",
       "      <th>fan_pg_fbid</th>\n",
       "      <th>post_likes</th>\n",
       "      <th>post_comments</th>\n",
       "      <th>post_shares</th>\n",
       "      <th>relative_eng</th>\n",
       "      <th>fan_count</th>\n",
       "      <th>artist_names1</th>\n",
       "      <th>artist_fan_page_nm</th>\n",
       "      <th>tag_counts</th>\n",
       "    </tr>\n",
       "  </thead>\n",
       "  <tbody>\n",
       "    <tr>\n",
       "      <th>0</th>\n",
       "      <td>2018-03-28T17:30:44+0000</td>\n",
       "      <td>69116329538_10156281979254539</td>\n",
       "      <td>None</td>\n",
       "      <td>6.911633e+10</td>\n",
       "      <td>4846</td>\n",
       "      <td>361</td>\n",
       "      <td>454</td>\n",
       "      <td>0.000009</td>\n",
       "      <td>41424634</td>\n",
       "      <td>Beatles</td>\n",
       "      <td>The Beatles</td>\n",
       "      <td>rock        0\n",
       "country     0\n",
       "jazz        0\n",
       "pop ...</td>\n",
       "    </tr>\n",
       "    <tr>\n",
       "      <th>1</th>\n",
       "      <td>2018-03-28T15:37:35+0000</td>\n",
       "      <td>69116329538_10156281752784539</td>\n",
       "      <td>None</td>\n",
       "      <td>6.911633e+10</td>\n",
       "      <td>1368</td>\n",
       "      <td>82</td>\n",
       "      <td>51</td>\n",
       "      <td>0.000002</td>\n",
       "      <td>41424634</td>\n",
       "      <td>Beatles</td>\n",
       "      <td>The Beatles</td>\n",
       "      <td>rock        0\n",
       "country     0\n",
       "jazz        0\n",
       "pop ...</td>\n",
       "    </tr>\n",
       "    <tr>\n",
       "      <th>2</th>\n",
       "      <td>2018-03-27T22:47:29+0000</td>\n",
       "      <td>69116329538_10156279252434539</td>\n",
       "      <td>None</td>\n",
       "      <td>6.911633e+10</td>\n",
       "      <td>1630</td>\n",
       "      <td>214</td>\n",
       "      <td>90</td>\n",
       "      <td>0.000005</td>\n",
       "      <td>41424634</td>\n",
       "      <td>Beatles</td>\n",
       "      <td>The Beatles</td>\n",
       "      <td>rock        0\n",
       "country     0\n",
       "jazz        0\n",
       "pop ...</td>\n",
       "    </tr>\n",
       "  </tbody>\n",
       "</table>\n",
       "</div>"
      ],
      "text/plain": [
       "                 created_id                        post_id message  \\\n",
       "0  2018-03-28T17:30:44+0000  69116329538_10156281979254539    None   \n",
       "1  2018-03-28T15:37:35+0000  69116329538_10156281752784539    None   \n",
       "2  2018-03-27T22:47:29+0000  69116329538_10156279252434539    None   \n",
       "\n",
       "    fan_pg_fbid  post_likes  post_comments  post_shares  relative_eng  \\\n",
       "0  6.911633e+10        4846            361          454      0.000009   \n",
       "1  6.911633e+10        1368             82           51      0.000002   \n",
       "2  6.911633e+10        1630            214           90      0.000005   \n",
       "\n",
       "   fan_count artist_names1 artist_fan_page_nm  \\\n",
       "0   41424634       Beatles        The Beatles   \n",
       "1   41424634       Beatles        The Beatles   \n",
       "2   41424634       Beatles        The Beatles   \n",
       "\n",
       "                                          tag_counts  \n",
       "0  rock        0\n",
       "country     0\n",
       "jazz        0\n",
       "pop ...  \n",
       "1  rock        0\n",
       "country     0\n",
       "jazz        0\n",
       "pop ...  \n",
       "2  rock        0\n",
       "country     0\n",
       "jazz        0\n",
       "pop ...  "
      ]
     },
     "execution_count": 30,
     "metadata": {},
     "output_type": "execute_result"
    }
   ],
   "source": [
    "import pandas as pd\n",
    "# xfart = pd.read_csv(\"xfart.csv\", encoding= 'utf-8' )\n",
    "# xfart.head(1)\n",
    "import chardet\n",
    "import pandas as pd\n",
    "\n",
    "with open('xfart.csv', 'rb') as f:\n",
    "    result = chardet.detect(f.read())  # or readline if the file is large\n",
    "\n",
    "\n",
    "xfart2 = pd.read_csv('xfart.csv', encoding=result['encoding'])\n",
    "xfart3= xfart.iloc[:,1:]\n",
    "xfart3.head(3)\n"
   ]
  },
  {
   "cell_type": "code",
   "execution_count": 31,
   "metadata": {
    "collapsed": true
   },
   "outputs": [],
   "source": [
    "xfart3[\"created_id\"] = pd.to_datetime(xfart3[\"created_id\"]).apply(lambda x:x.date().strftime('%y.%d.%m'))"
   ]
  },
  {
   "cell_type": "markdown",
   "metadata": {},
   "source": [
    "# STEP7: The file xfart3 contaning all the data from master data dumped into json format. In my case, I selected Artist named Beatles. All the records related to beatles has been sliced from xfart3 (Dataframe) and later dumped into json."
   ]
  },
  {
   "cell_type": "code",
   "execution_count": 287,
   "metadata": {
    "collapsed": true
   },
   "outputs": [],
   "source": [
    "xfart3_artist_names = xfart3[xfart3['artist_names1']== 'Beatles'] "
   ]
  },
  {
   "cell_type": "code",
   "execution_count": 288,
   "metadata": {},
   "outputs": [
    {
     "data": {
      "text/plain": [
       "(25, 13)"
      ]
     },
     "execution_count": 288,
     "metadata": {},
     "output_type": "execute_result"
    }
   ],
   "source": [
    "xfart3_artist_names.shape"
   ]
  },
  {
   "cell_type": "code",
   "execution_count": 289,
   "metadata": {
    "collapsed": true
   },
   "outputs": [],
   "source": [
    "xfart3_artist_json = xfart3_artist_names.to_json(orient='records')"
   ]
  },
  {
   "cell_type": "markdown",
   "metadata": {},
   "source": [
    "# The first row of the dumped json can be read which is basically into dictionary format which contains created_id, post_id, message, fan_fbid, artist_name, artist_fan_page, tag_counts etc."
   ]
  },
  {
   "cell_type": "code",
   "execution_count": 291,
   "metadata": {},
   "outputs": [
    {
     "name": "stdout",
     "output_type": "stream",
     "text": [
      "{'created_id': '18.28.03', 'post_id': '69116329538_10156281752784539', 'message': 'None', 'fan_pg_fbid': 69116329538.0, 'post_likes': 1368, 'post_comments': 82, 'post_shares': 51, 'relative_eng': 1.9795e-06, 'fan_count': 41424634, 'artist_names1': 'Beatles', 'artist_fan_page_nm': 'The Beatles', 'count': 0, 'tag_counts': [0, 0, 0, 0, 0, 2, 0, 0, 0, 5, 0, 0]}\n"
     ]
    }
   ],
   "source": [
    "d= json.loads(xfart3_artist_json)\n",
    "print(d[1])"
   ]
  },
  {
   "cell_type": "markdown",
   "metadata": {},
   "source": [
    "# STEP 8: This json dumped file is fed into collections in database. In case of Artist database, the artist- Beatles file was only fed into collection. Then we do the query on the Nosql Database."
   ]
  },
  {
   "cell_type": "code",
   "execution_count": 294,
   "metadata": {
    "collapsed": true
   },
   "outputs": [],
   "source": [
    "for item in d:\n",
    "    try:\n",
    "        db.coll_1.insert_one(item)\n",
    "    except pymongo.errors.DuplicateKeyError:\n",
    "#         # skip document because it already exists in new collection\n",
    "     continue\n",
    "# for item in d:\n",
    "    \n",
    "#     db.coll.insert_one(item)"
   ]
  },
  {
   "cell_type": "markdown",
   "metadata": {},
   "source": [
    "# Step9 : After the collection are being fed into MongoDb, the query was all the keys sorted with respect to Related engagement of Artists. The relative engagement shows the influence of Artist. In Musicians database, Beatles Influence is shown."
   ]
  },
  {
   "cell_type": "markdown",
   "metadata": {},
   "source": [
    "# Ques 4. Influence Of Musician {Rel_ENG}"
   ]
  },
  {
   "cell_type": "code",
   "execution_count": 42,
   "metadata": {
    "scrolled": false
   },
   "outputs": [
    {
     "name": "stdout",
     "output_type": "stream",
     "text": [
      "{'_id': ObjectId('5ad63ae8d5b95029b0e7c3a8'), 'created_id': '18.28.03', 'post_id': '69116329538_10156281979254539', 'message': 'None', 'fan_pg_fbid': 69116329538.0, 'post_likes': 4846, 'post_comments': 361, 'post_shares': 454, 'relative_eng': 8.7146e-06, 'fan_count': 41424634, 'artist_names1': 'Beatles', 'artist_fan_page_nm': 'The Beatles', 'count': 0, 'tag_counts': [0, 0, 0, 0, 0, 2, 0, 0, 0, 5, 0, 0]}\n",
      "{'_id': ObjectId('5ad63ae8d5b95029b0e7c3a9'), 'created_id': '18.28.03', 'post_id': '69116329538_10156281752784539', 'message': 'None', 'fan_pg_fbid': 69116329538.0, 'post_likes': 1368, 'post_comments': 82, 'post_shares': 51, 'relative_eng': 1.9795e-06, 'fan_count': 41424634, 'artist_names1': 'Beatles', 'artist_fan_page_nm': 'The Beatles', 'count': 0, 'tag_counts': [0, 0, 0, 0, 0, 2, 0, 0, 0, 5, 0, 0]}\n",
      "{'_id': ObjectId('5ad63ae8d5b95029b0e7c3aa'), 'created_id': '18.27.03', 'post_id': '69116329538_10156279252434539', 'message': 'None', 'fan_pg_fbid': 69116329538.0, 'post_likes': 1630, 'post_comments': 214, 'post_shares': 90, 'relative_eng': 5.166e-06, 'fan_count': 41424634, 'artist_names1': 'Beatles', 'artist_fan_page_nm': 'The Beatles', 'count': 0, 'tag_counts': [0, 0, 0, 0, 0, 2, 0, 0, 0, 5, 0, 0]}\n",
      "{'_id': ObjectId('5ad63ae8d5b95029b0e7c3ab'), 'created_id': '18.27.03', 'post_id': '69116329538_10156279250809539', 'message': 'None', 'fan_pg_fbid': 69116329538.0, 'post_likes': 507, 'post_comments': 90, 'post_shares': 28, 'relative_eng': 2.1726e-06, 'fan_count': 41424634, 'artist_names1': 'Beatles', 'artist_fan_page_nm': 'The Beatles', 'count': 0, 'tag_counts': [0, 0, 0, 0, 0, 2, 0, 0, 0, 5, 0, 0]}\n"
     ]
    }
   ],
   "source": [
    "# Ques 4. Reach Of Musician {Post_shares}\n",
    "flag=0\n",
    "for doc in db.coll_1.find().sort('rel_eng', pymongo.ASCENDING):\n",
    "    if(flag <4):\n",
    "        print(doc)\n",
    "        flag= flag+1"
   ]
  },
  {
   "cell_type": "markdown",
   "metadata": {},
   "source": [
    "# Step10: The Reach of the Musicicans was shown through Post shares i.e the number of shared the end users did on a particular post of the Musician official facebook page. "
   ]
  },
  {
   "cell_type": "markdown",
   "metadata": {},
   "source": [
    "# Ques 10. Reach Of Musician {Post_shares}"
   ]
  },
  {
   "cell_type": "code",
   "execution_count": 33,
   "metadata": {
    "scrolled": true
   },
   "outputs": [
    {
     "name": "stdout",
     "output_type": "stream",
     "text": [
      "{'_id': ObjectId('5ad63ae8d5b95029b0e7c3b8'), 'created_id': '18.18.03', 'post_id': '69116329538_10156251018134539', 'message': 'None', 'fan_pg_fbid': 69116329538.0, 'post_likes': 488, 'post_comments': 43, 'post_shares': 25, 'relative_eng': 1.038e-06, 'fan_count': 41424634, 'artist_names1': 'Beatles', 'artist_fan_page_nm': 'The Beatles', 'count': 0, 'tag_counts': [0, 0, 0, 0, 0, 2, 0, 0, 0, 5, 0, 0]}\n",
      "{'_id': ObjectId('5ad63ae8d5b95029b0e7c3ab'), 'created_id': '18.27.03', 'post_id': '69116329538_10156279250809539', 'message': 'None', 'fan_pg_fbid': 69116329538.0, 'post_likes': 507, 'post_comments': 90, 'post_shares': 28, 'relative_eng': 2.1726e-06, 'fan_count': 41424634, 'artist_names1': 'Beatles', 'artist_fan_page_nm': 'The Beatles', 'count': 0, 'tag_counts': [0, 0, 0, 0, 0, 2, 0, 0, 0, 5, 0, 0]}\n",
      "{'_id': ObjectId('5ad63ae8d5b95029b0e7c3b3'), 'created_id': '18.22.03', 'post_id': '69116329538_10156262824079539', 'message': 'None', 'fan_pg_fbid': 69116329538.0, 'post_likes': 1022, 'post_comments': 79, 'post_shares': 46, 'relative_eng': 1.9071e-06, 'fan_count': 41424634, 'artist_names1': 'Beatles', 'artist_fan_page_nm': 'The Beatles', 'count': 0, 'tag_counts': [0, 0, 0, 0, 0, 2, 0, 0, 0, 5, 0, 0]}\n",
      "{'_id': ObjectId('5ad63ae8d5b95029b0e7c3a9'), 'created_id': '18.28.03', 'post_id': '69116329538_10156281752784539', 'message': 'None', 'fan_pg_fbid': 69116329538.0, 'post_likes': 1368, 'post_comments': 82, 'post_shares': 51, 'relative_eng': 1.9795e-06, 'fan_count': 41424634, 'artist_names1': 'Beatles', 'artist_fan_page_nm': 'The Beatles', 'count': 0, 'tag_counts': [0, 0, 0, 0, 0, 2, 0, 0, 0, 5, 0, 0]}\n"
     ]
    }
   ],
   "source": [
    "# Ques 10. Reach Of Musician {Post_shares}\n",
    "flag=0\n",
    "for doc in db.coll_1.find().sort('post_shares', pymongo.ASCENDING):\n",
    "    if(flag <4):\n",
    "        print(doc)\n",
    "        flag= flag+1"
   ]
  },
  {
   "cell_type": "markdown",
   "metadata": {},
   "source": [
    "# Step 11: To gain the virality of the posts the post likes, post comments has been queried for artist on Musician database which are further sorted. The post likes, comments are metrics measured for every post on the official page of Artists."
   ]
  },
  {
   "cell_type": "markdown",
   "metadata": {},
   "source": [
    "# Ques 3. Viral are my post {post likes, post_comments}"
   ]
  },
  {
   "cell_type": "code",
   "execution_count": 41,
   "metadata": {
    "scrolled": true
   },
   "outputs": [
    {
     "name": "stdout",
     "output_type": "stream",
     "text": [
      "{'_id': ObjectId('5ad63ae8d5b95029b0e7c3b8'), 'created_id': '18.18.03', 'post_id': '69116329538_10156251018134539', 'message': 'None', 'fan_pg_fbid': 69116329538.0, 'post_likes': 488, 'post_comments': 43, 'post_shares': 25, 'relative_eng': 1.038e-06, 'fan_count': 41424634, 'artist_names1': 'Beatles', 'artist_fan_page_nm': 'The Beatles', 'count': 0, 'tag_counts': [0, 0, 0, 0, 0, 2, 0, 0, 0, 5, 0, 0]}\n",
      "{'_id': ObjectId('5ad63ae8d5b95029b0e7c3b8'), 'created_id': '18.18.03', 'post_id': '69116329538_10156251018134539', 'message': 'None', 'fan_pg_fbid': 69116329538.0, 'post_likes': 488, 'post_comments': 43, 'post_shares': 25, 'relative_eng': 1.038e-06, 'fan_count': 41424634, 'artist_names1': 'Beatles', 'artist_fan_page_nm': 'The Beatles', 'count': 0, 'tag_counts': [0, 0, 0, 0, 0, 2, 0, 0, 0, 5, 0, 0]}\n",
      "{'_id': ObjectId('5ad63ae8d5b95029b0e7c3b3'), 'created_id': '18.22.03', 'post_id': '69116329538_10156262824079539', 'message': 'None', 'fan_pg_fbid': 69116329538.0, 'post_likes': 1022, 'post_comments': 79, 'post_shares': 46, 'relative_eng': 1.9071e-06, 'fan_count': 41424634, 'artist_names1': 'Beatles', 'artist_fan_page_nm': 'The Beatles', 'count': 0, 'tag_counts': [0, 0, 0, 0, 0, 2, 0, 0, 0, 5, 0, 0]}\n",
      "{'_id': ObjectId('5ad63ae8d5b95029b0e7c3a9'), 'created_id': '18.28.03', 'post_id': '69116329538_10156281752784539', 'message': 'None', 'fan_pg_fbid': 69116329538.0, 'post_likes': 1368, 'post_comments': 82, 'post_shares': 51, 'relative_eng': 1.9795e-06, 'fan_count': 41424634, 'artist_names1': 'Beatles', 'artist_fan_page_nm': 'The Beatles', 'count': 0, 'tag_counts': [0, 0, 0, 0, 0, 2, 0, 0, 0, 5, 0, 0]}\n",
      "{'_id': ObjectId('5ad63ae8d5b95029b0e7c3ab'), 'created_id': '18.27.03', 'post_id': '69116329538_10156279250809539', 'message': 'None', 'fan_pg_fbid': 69116329538.0, 'post_likes': 507, 'post_comments': 90, 'post_shares': 28, 'relative_eng': 2.1726e-06, 'fan_count': 41424634, 'artist_names1': 'Beatles', 'artist_fan_page_nm': 'The Beatles', 'count': 0, 'tag_counts': [0, 0, 0, 0, 0, 2, 0, 0, 0, 5, 0, 0]}\n",
      "{'_id': ObjectId('5ad63ae8d5b95029b0e7c3ab'), 'created_id': '18.27.03', 'post_id': '69116329538_10156279250809539', 'message': 'None', 'fan_pg_fbid': 69116329538.0, 'post_likes': 507, 'post_comments': 90, 'post_shares': 28, 'relative_eng': 2.1726e-06, 'fan_count': 41424634, 'artist_names1': 'Beatles', 'artist_fan_page_nm': 'The Beatles', 'count': 0, 'tag_counts': [0, 0, 0, 0, 0, 2, 0, 0, 0, 5, 0, 0]}\n",
      "{'_id': ObjectId('5ad63ae8d5b95029b0e7c3b8'), 'created_id': '18.18.03', 'post_id': '69116329538_10156251018134539', 'message': 'None', 'fan_pg_fbid': 69116329538.0, 'post_likes': 488, 'post_comments': 43, 'post_shares': 25, 'relative_eng': 1.038e-06, 'fan_count': 41424634, 'artist_names1': 'Beatles', 'artist_fan_page_nm': 'The Beatles', 'count': 0, 'tag_counts': [0, 0, 0, 0, 0, 2, 0, 0, 0, 5, 0, 0]}\n",
      "{'_id': ObjectId('5ad63ae8d5b95029b0e7c3b3'), 'created_id': '18.22.03', 'post_id': '69116329538_10156262824079539', 'message': 'None', 'fan_pg_fbid': 69116329538.0, 'post_likes': 1022, 'post_comments': 79, 'post_shares': 46, 'relative_eng': 1.9071e-06, 'fan_count': 41424634, 'artist_names1': 'Beatles', 'artist_fan_page_nm': 'The Beatles', 'count': 0, 'tag_counts': [0, 0, 0, 0, 0, 2, 0, 0, 0, 5, 0, 0]}\n",
      "{'_id': ObjectId('5ad63ae8d5b95029b0e7c3a9'), 'created_id': '18.28.03', 'post_id': '69116329538_10156281752784539', 'message': 'None', 'fan_pg_fbid': 69116329538.0, 'post_likes': 1368, 'post_comments': 82, 'post_shares': 51, 'relative_eng': 1.9795e-06, 'fan_count': 41424634, 'artist_names1': 'Beatles', 'artist_fan_page_nm': 'The Beatles', 'count': 0, 'tag_counts': [0, 0, 0, 0, 0, 2, 0, 0, 0, 5, 0, 0]}\n",
      "{'_id': ObjectId('5ad63ae8d5b95029b0e7c3ab'), 'created_id': '18.27.03', 'post_id': '69116329538_10156279250809539', 'message': 'None', 'fan_pg_fbid': 69116329538.0, 'post_likes': 507, 'post_comments': 90, 'post_shares': 28, 'relative_eng': 2.1726e-06, 'fan_count': 41424634, 'artist_names1': 'Beatles', 'artist_fan_page_nm': 'The Beatles', 'count': 0, 'tag_counts': [0, 0, 0, 0, 0, 2, 0, 0, 0, 5, 0, 0]}\n",
      "{'_id': ObjectId('5ad63ae8d5b95029b0e7c3bd'), 'created_id': '18.15.03', 'post_id': '69116329538_10156240801279539', 'message': 'None', 'fan_pg_fbid': 69116329538.0, 'post_likes': 906, 'post_comments': 125, 'post_shares': 52, 'relative_eng': 3.0175e-06, 'fan_count': 41424634, 'artist_names1': 'Beatles', 'artist_fan_page_nm': 'The Beatles', 'count': 0, 'tag_counts': [0, 0, 0, 0, 0, 2, 0, 0, 0, 5, 0, 0]}\n",
      "{'_id': ObjectId('5ad63ae8d5b95029b0e7c3b8'), 'created_id': '18.18.03', 'post_id': '69116329538_10156251018134539', 'message': 'None', 'fan_pg_fbid': 69116329538.0, 'post_likes': 488, 'post_comments': 43, 'post_shares': 25, 'relative_eng': 1.038e-06, 'fan_count': 41424634, 'artist_names1': 'Beatles', 'artist_fan_page_nm': 'The Beatles', 'count': 0, 'tag_counts': [0, 0, 0, 0, 0, 2, 0, 0, 0, 5, 0, 0]}\n",
      "{'_id': ObjectId('5ad63ae8d5b95029b0e7c3b3'), 'created_id': '18.22.03', 'post_id': '69116329538_10156262824079539', 'message': 'None', 'fan_pg_fbid': 69116329538.0, 'post_likes': 1022, 'post_comments': 79, 'post_shares': 46, 'relative_eng': 1.9071e-06, 'fan_count': 41424634, 'artist_names1': 'Beatles', 'artist_fan_page_nm': 'The Beatles', 'count': 0, 'tag_counts': [0, 0, 0, 0, 0, 2, 0, 0, 0, 5, 0, 0]}\n",
      "{'_id': ObjectId('5ad63ae8d5b95029b0e7c3a9'), 'created_id': '18.28.03', 'post_id': '69116329538_10156281752784539', 'message': 'None', 'fan_pg_fbid': 69116329538.0, 'post_likes': 1368, 'post_comments': 82, 'post_shares': 51, 'relative_eng': 1.9795e-06, 'fan_count': 41424634, 'artist_names1': 'Beatles', 'artist_fan_page_nm': 'The Beatles', 'count': 0, 'tag_counts': [0, 0, 0, 0, 0, 2, 0, 0, 0, 5, 0, 0]}\n",
      "{'_id': ObjectId('5ad63ae8d5b95029b0e7c3ab'), 'created_id': '18.27.03', 'post_id': '69116329538_10156279250809539', 'message': 'None', 'fan_pg_fbid': 69116329538.0, 'post_likes': 507, 'post_comments': 90, 'post_shares': 28, 'relative_eng': 2.1726e-06, 'fan_count': 41424634, 'artist_names1': 'Beatles', 'artist_fan_page_nm': 'The Beatles', 'count': 0, 'tag_counts': [0, 0, 0, 0, 0, 2, 0, 0, 0, 5, 0, 0]}\n",
      "{'_id': ObjectId('5ad63ae8d5b95029b0e7c3b3'), 'created_id': '18.22.03', 'post_id': '69116329538_10156262824079539', 'message': 'None', 'fan_pg_fbid': 69116329538.0, 'post_likes': 1022, 'post_comments': 79, 'post_shares': 46, 'relative_eng': 1.9071e-06, 'fan_count': 41424634, 'artist_names1': 'Beatles', 'artist_fan_page_nm': 'The Beatles', 'count': 0, 'tag_counts': [0, 0, 0, 0, 0, 2, 0, 0, 0, 5, 0, 0]}\n",
      "{'_id': ObjectId('5ad63ae8d5b95029b0e7c3b8'), 'created_id': '18.18.03', 'post_id': '69116329538_10156251018134539', 'message': 'None', 'fan_pg_fbid': 69116329538.0, 'post_likes': 488, 'post_comments': 43, 'post_shares': 25, 'relative_eng': 1.038e-06, 'fan_count': 41424634, 'artist_names1': 'Beatles', 'artist_fan_page_nm': 'The Beatles', 'count': 0, 'tag_counts': [0, 0, 0, 0, 0, 2, 0, 0, 0, 5, 0, 0]}\n",
      "{'_id': ObjectId('5ad63ae8d5b95029b0e7c3b3'), 'created_id': '18.22.03', 'post_id': '69116329538_10156262824079539', 'message': 'None', 'fan_pg_fbid': 69116329538.0, 'post_likes': 1022, 'post_comments': 79, 'post_shares': 46, 'relative_eng': 1.9071e-06, 'fan_count': 41424634, 'artist_names1': 'Beatles', 'artist_fan_page_nm': 'The Beatles', 'count': 0, 'tag_counts': [0, 0, 0, 0, 0, 2, 0, 0, 0, 5, 0, 0]}\n",
      "{'_id': ObjectId('5ad63ae8d5b95029b0e7c3a9'), 'created_id': '18.28.03', 'post_id': '69116329538_10156281752784539', 'message': 'None', 'fan_pg_fbid': 69116329538.0, 'post_likes': 1368, 'post_comments': 82, 'post_shares': 51, 'relative_eng': 1.9795e-06, 'fan_count': 41424634, 'artist_names1': 'Beatles', 'artist_fan_page_nm': 'The Beatles', 'count': 0, 'tag_counts': [0, 0, 0, 0, 0, 2, 0, 0, 0, 5, 0, 0]}\n",
      "{'_id': ObjectId('5ad63ae8d5b95029b0e7c3ab'), 'created_id': '18.27.03', 'post_id': '69116329538_10156279250809539', 'message': 'None', 'fan_pg_fbid': 69116329538.0, 'post_likes': 507, 'post_comments': 90, 'post_shares': 28, 'relative_eng': 2.1726e-06, 'fan_count': 41424634, 'artist_names1': 'Beatles', 'artist_fan_page_nm': 'The Beatles', 'count': 0, 'tag_counts': [0, 0, 0, 0, 0, 2, 0, 0, 0, 5, 0, 0]}\n"
     ]
    }
   ],
   "source": [
    "# Ques 3. Viral are my post {post likes, post_comments}\n",
    "flag=0\n",
    "for doc in db.coll_1.find().sort('post_likes', pymongo.ASCENDING):\n",
    "    if(flag <4):\n",
    "        print(doc)\n",
    "        flag= flag+1\n",
    "        flag_1=0\n",
    "        for doc in db.coll_1.find().sort('post_comments', pymongo.ASCENDING):\n",
    "            if(flag_1 <4):\n",
    "                print(doc)\n",
    "                flag_1= flag_1+1"
   ]
  },
  {
   "cell_type": "markdown",
   "metadata": {},
   "source": [
    "# Step11: The popular tags on the domain of artist was queried. "
   ]
  },
  {
   "cell_type": "markdown",
   "metadata": {},
   "source": [
    "# Ques:4posts like mine:"
   ]
  },
  {
   "cell_type": "code",
   "execution_count": 314,
   "metadata": {},
   "outputs": [
    {
     "name": "stdout",
     "output_type": "stream",
     "text": [
      "{'_id': ObjectId('5ad63ae8d5b95029b0e7c3a8'), 'created_id': '18.28.03', 'post_id': '69116329538_10156281979254539', 'message': 'None', 'fan_pg_fbid': 69116329538.0, 'post_likes': 4846, 'post_comments': 361, 'post_shares': 454, 'relative_eng': 8.7146e-06, 'fan_count': 41424634, 'artist_names1': 'Beatles', 'artist_fan_page_nm': 'The Beatles', 'count': 0, 'tag_counts': [0, 0, 0, 0, 0, 2, 0, 0, 0, 5, 0, 0]}\n",
      "{'_id': ObjectId('5ad63ae8d5b95029b0e7c3a9'), 'created_id': '18.28.03', 'post_id': '69116329538_10156281752784539', 'message': 'None', 'fan_pg_fbid': 69116329538.0, 'post_likes': 1368, 'post_comments': 82, 'post_shares': 51, 'relative_eng': 1.9795e-06, 'fan_count': 41424634, 'artist_names1': 'Beatles', 'artist_fan_page_nm': 'The Beatles', 'count': 0, 'tag_counts': [0, 0, 0, 0, 0, 2, 0, 0, 0, 5, 0, 0]}\n",
      "{'_id': ObjectId('5ad63ae8d5b95029b0e7c3aa'), 'created_id': '18.27.03', 'post_id': '69116329538_10156279252434539', 'message': 'None', 'fan_pg_fbid': 69116329538.0, 'post_likes': 1630, 'post_comments': 214, 'post_shares': 90, 'relative_eng': 5.166e-06, 'fan_count': 41424634, 'artist_names1': 'Beatles', 'artist_fan_page_nm': 'The Beatles', 'count': 0, 'tag_counts': [0, 0, 0, 0, 0, 2, 0, 0, 0, 5, 0, 0]}\n",
      "{'_id': ObjectId('5ad63ae8d5b95029b0e7c3ab'), 'created_id': '18.27.03', 'post_id': '69116329538_10156279250809539', 'message': 'None', 'fan_pg_fbid': 69116329538.0, 'post_likes': 507, 'post_comments': 90, 'post_shares': 28, 'relative_eng': 2.1726e-06, 'fan_count': 41424634, 'artist_names1': 'Beatles', 'artist_fan_page_nm': 'The Beatles', 'count': 0, 'tag_counts': [0, 0, 0, 0, 0, 2, 0, 0, 0, 5, 0, 0]}\n",
      "{'_id': ObjectId('5ad63ae8d5b95029b0e7c3ac'), 'created_id': '18.27.03', 'post_id': '69116329538_10156241665004539', 'message': '#LadyMadonna reached the top of the UK Record Retailer chart #OTD, #1968. Watch: http://gnikn.us/LadyMadonna', 'fan_pg_fbid': 69116329538.0, 'post_likes': 5157, 'post_comments': 912, 'post_shares': 64, 'relative_eng': 2.20159e-05, 'fan_count': 41424634, 'artist_names1': 'Beatles', 'artist_fan_page_nm': 'The Beatles', 'count': 0, 'tag_counts': [0, 0, 0, 0, 0, 2, 0, 0, 0, 5, 0, 0]}\n",
      "{'_id': ObjectId('5ad63ae8d5b95029b0e7c3ad'), 'created_id': '18.26.03', 'post_id': '69116329538_10156231448519539', 'message': 'None', 'fan_pg_fbid': 69116329538.0, 'post_likes': 9252, 'post_comments': 1073, 'post_shares': 4177, 'relative_eng': 2.59025e-05, 'fan_count': 41424634, 'artist_names1': 'Beatles', 'artist_fan_page_nm': 'The Beatles', 'count': 0, 'tag_counts': [0, 0, 0, 0, 0, 2, 0, 0, 0, 5, 0, 0]}\n",
      "{'_id': ObjectId('5ad63ae8d5b95029b0e7c3ae'), 'created_id': '18.25.03', 'post_id': '69116329538_10156271597744539', 'message': 'None', 'fan_pg_fbid': 69116329538.0, 'post_likes': 6740, 'post_comments': 594, 'post_shares': 194, 'relative_eng': 1.43393e-05, 'fan_count': 41424634, 'artist_names1': 'Beatles', 'artist_fan_page_nm': 'The Beatles', 'count': 0, 'tag_counts': [0, 0, 0, 0, 0, 2, 0, 0, 0, 5, 0, 0]}\n",
      "{'_id': ObjectId('5ad63ae8d5b95029b0e7c3af'), 'created_id': '18.24.03', 'post_id': '69116329538_10156241554079539', 'message': '\\x93We were all on this ship in the Sixties. Our generation - a ship going to discover the New World. And The Beatles were in the crow\\x92s-nest of that ship. We were part of it and contributed what we contributed, I can\\x92t designate what we did and didn\\x92t do. It depends on how each individual was impressed by The Beatles, or how shock waves went to different people. We were going through the changes, and all we were saying was, \\x91It\\x92s raining up here!\\x92 or, \\x91There\\x92s land!\\x92 or, \\x91There\\x92s sun!\\x92 or, \\x91We can see a seagull!\\x92 We were just reporting what was happening to us.\\x94 - John. ? Watch: http://gnikn.us/Revolution ? Photo © Apple Corps Ltd.', 'fan_pg_fbid': 69116329538.0, 'post_likes': 10862, 'post_comments': 1222, 'post_shares': 222, 'relative_eng': 2.94994e-05, 'fan_count': 41424634, 'artist_names1': 'Beatles', 'artist_fan_page_nm': 'The Beatles', 'count': 0, 'tag_counts': [0, 0, 0, 0, 0, 2, 0, 0, 0, 5, 0, 0]}\n",
      "{'_id': ObjectId('5ad63ae8d5b95029b0e7c3b0'), 'created_id': '18.24.03', 'post_id': '69116329538_10156268548724539', 'message': 'None', 'fan_pg_fbid': 69116329538.0, 'post_likes': 4115, 'post_comments': 387, 'post_shares': 59, 'relative_eng': 9.3423e-06, 'fan_count': 41424634, 'artist_names1': 'Beatles', 'artist_fan_page_nm': 'The Beatles', 'count': 0, 'tag_counts': [0, 0, 0, 0, 0, 2, 0, 0, 0, 5, 0, 0]}\n",
      "{'_id': ObjectId('5ad63ae8d5b95029b0e7c3b1'), 'created_id': '18.23.03', 'post_id': '69116329538_10156265451874539', 'message': 'None', 'fan_pg_fbid': 69116329538.0, 'post_likes': 3594, 'post_comments': 351, 'post_shares': 132, 'relative_eng': 8.4732e-06, 'fan_count': 41424634, 'artist_names1': 'Beatles', 'artist_fan_page_nm': 'The Beatles', 'count': 0, 'tag_counts': [0, 0, 0, 0, 0, 2, 0, 0, 0, 5, 0, 0]}\n",
      "{'_id': ObjectId('5ad63ae8d5b95029b0e7c3b2'), 'created_id': '18.22.03', 'post_id': '69116329538_10156231383944539', 'message': \"#OTD #1963 #TheBeatles release their first LP - `Please Please Me' (mono version) ? Mono was the predominant audio format in the 1960s, and this is how most listeners first heard the band. Up until 1968, each Beatles album was given a unique mono and stereo mix, but the group always regarded the mono as primary. ? Watch \\x91The Beatles Get Back To Mono\\x92: http://gnikn.us/2wTCuZO\", 'fan_pg_fbid': 69116329538.0, 'post_likes': 10224, 'post_comments': 1385, 'post_shares': 294, 'relative_eng': 3.34342e-05, 'fan_count': 41424634, 'artist_names1': 'Beatles', 'artist_fan_page_nm': 'The Beatles', 'count': 0, 'tag_counts': [0, 0, 0, 0, 0, 2, 0, 0, 0, 5, 0, 0]}\n",
      "{'_id': ObjectId('5ad63ae8d5b95029b0e7c3b3'), 'created_id': '18.22.03', 'post_id': '69116329538_10156262824079539', 'message': 'None', 'fan_pg_fbid': 69116329538.0, 'post_likes': 1022, 'post_comments': 79, 'post_shares': 46, 'relative_eng': 1.9071e-06, 'fan_count': 41424634, 'artist_names1': 'Beatles', 'artist_fan_page_nm': 'The Beatles', 'count': 0, 'tag_counts': [0, 0, 0, 0, 0, 2, 0, 0, 0, 5, 0, 0]}\n",
      "{'_id': ObjectId('5ad63ae8d5b95029b0e7c3b4'), 'created_id': '18.20.03', 'post_id': '69116329538_10156257107659539', 'message': 'Congratulations SIR RINGO on your incredible Knighthood! Ringo was honoured today for his services to music by the Duke of Cambridge at Buckingham Palace.', 'fan_pg_fbid': 69116329538.0, 'post_likes': 109538, 'post_comments': 17730, 'post_shares': 5050, 'relative_eng': 0.0004280062, 'fan_count': 41424634, 'artist_names1': 'Beatles', 'artist_fan_page_nm': 'The Beatles', 'count': 0, 'tag_counts': [0, 0, 0, 0, 0, 2, 0, 0, 0, 5, 0, 0]}\n",
      "{'_id': ObjectId('5ad63ae8d5b95029b0e7c3b5'), 'created_id': '18.20.03', 'post_id': '69116329538_10156231350609539', 'message': \"#OTD #1964: With advance sales already numbering more than 2 million, \\x92Can't Buy Me Love' is released in the UK (B-side:`You Can't Do That\\x92).\", 'fan_pg_fbid': 69116329538.0, 'post_likes': 10333, 'post_comments': 1825, 'post_shares': 100, 'relative_eng': 4.40559e-05, 'fan_count': 41424634, 'artist_names1': 'Beatles', 'artist_fan_page_nm': 'The Beatles', 'count': 0, 'tag_counts': [0, 0, 0, 0, 0, 2, 0, 0, 0, 5, 0, 0]}\n",
      "{'_id': ObjectId('5ad63ae8d5b95029b0e7c3b6'), 'created_id': '18.19.03', 'post_id': '69116329538_10156254136174539', 'message': 'None', 'fan_pg_fbid': 69116329538.0, 'post_likes': 4080, 'post_comments': 270, 'post_shares': 57, 'relative_eng': 6.5179e-06, 'fan_count': 41424634, 'artist_names1': 'Beatles', 'artist_fan_page_nm': 'The Beatles', 'count': 0, 'tag_counts': [0, 0, 0, 0, 0, 2, 0, 0, 0, 5, 0, 0]}\n",
      "{'_id': ObjectId('5ad63ae8d5b95029b0e7c3b7'), 'created_id': '18.19.03', 'post_id': '69116329538_10156231238714539', 'message': 'None', 'fan_pg_fbid': 69116329538.0, 'post_likes': 6929, 'post_comments': 866, 'post_shares': 7104, 'relative_eng': 2.09054e-05, 'fan_count': 41424634, 'artist_names1': 'Beatles', 'artist_fan_page_nm': 'The Beatles', 'count': 0, 'tag_counts': [0, 0, 0, 0, 0, 2, 0, 0, 0, 5, 0, 0]}\n",
      "{'_id': ObjectId('5ad63ae8d5b95029b0e7c3b8'), 'created_id': '18.18.03', 'post_id': '69116329538_10156251018134539', 'message': 'None', 'fan_pg_fbid': 69116329538.0, 'post_likes': 488, 'post_comments': 43, 'post_shares': 25, 'relative_eng': 1.038e-06, 'fan_count': 41424634, 'artist_names1': 'Beatles', 'artist_fan_page_nm': 'The Beatles', 'count': 0, 'tag_counts': [0, 0, 0, 0, 0, 2, 0, 0, 0, 5, 0, 0]}\n",
      "{'_id': ObjectId('5ad63ae8d5b95029b0e7c3b9'), 'created_id': '18.17.03', 'post_id': '69116329538_10156231208969539', 'message': 'Recording #BeatlesForSale. #1964 ? \\x93It was getting to be really exciting in the studio. We did it all in there: rehearsing, recording and finishing songs. We never hired a rehearsal room to run down the songs, because a lot of them weren\\x92t finished. The ideas were there for the first verse, or a chorus, but it could be changed by the writers as we were doing it, or if anyone had a good idea.\\x94 - Ringo ? Listen: http://gnikn.us/Beatles4Sale ? Photo © Apple Corps Ltd.', 'fan_pg_fbid': 69116329538.0, 'post_likes': 8501, 'post_comments': 795, 'post_shares': 162, 'relative_eng': 1.91915e-05, 'fan_count': 41424634, 'artist_names1': 'Beatles', 'artist_fan_page_nm': 'The Beatles', 'count': 0, 'tag_counts': [0, 0, 0, 0, 0, 2, 0, 0, 0, 5, 0, 0]}\n",
      "{'_id': ObjectId('5ad63ae8d5b95029b0e7c3ba'), 'created_id': '18.17.03', 'post_id': '69116329538_10156247729134539', 'message': 'None', 'fan_pg_fbid': 69116329538.0, 'post_likes': 9073, 'post_comments': 688, 'post_shares': 222, 'relative_eng': 1.66085e-05, 'fan_count': 41424634, 'artist_names1': 'Beatles', 'artist_fan_page_nm': 'The Beatles', 'count': 0, 'tag_counts': [0, 0, 0, 0, 0, 2, 0, 0, 0, 5, 0, 0]}\n",
      "{'_id': ObjectId('5ad63ae8d5b95029b0e7c3bb'), 'created_id': '18.15.03', 'post_id': '69116329538_10156242599339539', 'message': 'None', 'fan_pg_fbid': 69116329538.0, 'post_likes': 4810, 'post_comments': 353, 'post_shares': 78, 'relative_eng': 8.5215e-06, 'fan_count': 41424634, 'artist_names1': 'Beatles', 'artist_fan_page_nm': 'The Beatles', 'count': 0, 'tag_counts': [0, 0, 0, 0, 0, 2, 0, 0, 0, 5, 0, 0]}\n",
      "{'_id': ObjectId('5ad63ae8d5b95029b0e7c3bc'), 'created_id': '18.15.03', 'post_id': '69116329538_10156230799914539', 'message': \"#OTD #1967  #TheBeatles were in Studio 2, Abbey Road, recording: `Untitled' (working title of `Within You Without You\\x92) \\n\\x93We were talking about the space between us all\\nAnd the people who hide themselves behind a wall of illusion\\nNever glimpse the truth\\nThen it's far too late when they pass away\\nWe were talking about the love we all could share\\nWhen we find it to try our best to hold it there with our love\\nWith our love, we could save the world, if they only knew.\\x94\\nListen: http://gnikn.us/1V9cKBG\", 'fan_pg_fbid': 69116329538.0, 'post_likes': 4271, 'post_comments': 492, 'post_shares': 80, 'relative_eng': 1.1877e-05, 'fan_count': 41424634, 'artist_names1': 'Beatles', 'artist_fan_page_nm': 'The Beatles', 'count': 0, 'tag_counts': [0, 0, 0, 0, 0, 2, 0, 0, 0, 5, 0, 0]}\n",
      "{'_id': ObjectId('5ad63ae8d5b95029b0e7c3bd'), 'created_id': '18.15.03', 'post_id': '69116329538_10156240801279539', 'message': 'None', 'fan_pg_fbid': 69116329538.0, 'post_likes': 906, 'post_comments': 125, 'post_shares': 52, 'relative_eng': 3.0175e-06, 'fan_count': 41424634, 'artist_names1': 'Beatles', 'artist_fan_page_nm': 'The Beatles', 'count': 0, 'tag_counts': [0, 0, 0, 0, 0, 2, 0, 0, 0, 5, 0, 0]}\n",
      "{'_id': ObjectId('5ad63ae8d5b95029b0e7c3be'), 'created_id': '18.14.03', 'post_id': '69116329538_10156238630699539', 'message': 'None', 'fan_pg_fbid': 69116329538.0, 'post_likes': 3484, 'post_comments': 926, 'post_shares': 171, 'relative_eng': 2.23538e-05, 'fan_count': 41424634, 'artist_names1': 'Beatles', 'artist_fan_page_nm': 'The Beatles', 'count': 0, 'tag_counts': [0, 0, 0, 0, 0, 2, 0, 0, 0, 5, 0, 0]}\n",
      "{'_id': ObjectId('5ad63ae8d5b95029b0e7c3bf'), 'created_id': '18.14.03', 'post_id': '69116329538_10156213232734539', 'message': '#OTD #1965 #TheBeatles are shooting Help! in Austria. ? \\x93All the best stuff is on the cutting-room floor, with us breaking up and falling about all over the place, lying on the floor, incapable of saying a word.\\x94 - John. ?Listen to the band and Richard Lester (Director) talk about making the film: http://gnikn.us/2FZjMGm ? Photos © Apple Corps Ltd', 'fan_pg_fbid': 69116329538.0, 'post_likes': 6986, 'post_comments': 854, 'post_shares': 122, 'relative_eng': 2.06158e-05, 'fan_count': 41424634, 'artist_names1': 'Beatles', 'artist_fan_page_nm': 'The Beatles', 'count': 0, 'tag_counts': [0, 0, 0, 0, 0, 2, 0, 0, 0, 5, 0, 0]}\n",
      "{'_id': ObjectId('5ad63ae8d5b95029b0e7c3c0'), 'created_id': '18.13.03', 'post_id': '69116329538_10156213291614539', 'message': 'None', 'fan_pg_fbid': 69116329538.0, 'post_likes': 17069, 'post_comments': 6770, 'post_shares': 43232, 'relative_eng': 0.0001634293, 'fan_count': 41424634, 'artist_names1': 'Beatles', 'artist_fan_page_nm': 'The Beatles', 'count': 0, 'tag_counts': [0, 0, 0, 0, 0, 2, 0, 0, 0, 5, 0, 0]}\n"
     ]
    }
   ],
   "source": [
    "#Ques:4posts like mine:\n",
    "for doc in db.coll_1.find({}, tag_count).sort('fan_count', pymongo.ASCENDING):\n",
    "    print(doc)"
   ]
  }
 ],
 "metadata": {
  "kernelspec": {
   "display_name": "Python 3",
   "language": "python",
   "name": "python3"
  },
  "language_info": {
   "codemirror_mode": {
    "name": "ipython",
    "version": 3
   },
   "file_extension": ".py",
   "mimetype": "text/x-python",
   "name": "python",
   "nbconvert_exporter": "python",
   "pygments_lexer": "ipython3",
   "version": "3.6.1"
  }
 },
 "nbformat": 4,
 "nbformat_minor": 2
}
