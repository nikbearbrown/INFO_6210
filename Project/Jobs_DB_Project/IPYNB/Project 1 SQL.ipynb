{
 "cells": [
  {
   "cell_type": "code",
   "execution_count": 1,
   "metadata": {
    "scrolled": true
   },
   "outputs": [
    {
     "name": "stdout",
     "output_type": "stream",
     "text": [
      "Collecting pandoc\n",
      "Requirement already satisfied: ply in c:\\users\\girijesh\\anaconda3\\lib\\site-packages (from pandoc)\n",
      "Installing collected packages: pandoc\n",
      "Successfully installed pandoc-1.0.2\n"
     ]
    },
    {
     "name": "stderr",
     "output_type": "stream",
     "text": [
      "You are using pip version 9.0.3, however version 10.0.0 is available.\n",
      "You should consider upgrading via the 'python -m pip install --upgrade pip' command.\n"
     ]
    }
   ],
   "source": [
    "! pip install pandoc "
   ]
  },
  {
   "cell_type": "code",
   "execution_count": 26,
   "metadata": {},
   "outputs": [
    {
     "data": {
      "text/plain": [
       "{'data': []}"
      ]
     },
     "execution_count": 26,
     "metadata": {},
     "output_type": "execute_result"
    }
   ],
   "source": [
    "g.request(\"search\", {'q': 'Himanshu Gupta', 'type': 'user'})"
   ]
  },
  {
   "cell_type": "code",
   "execution_count": 97,
   "metadata": {
    "collapsed": true
   },
   "outputs": [],
   "source": [
    "%matplotlib inline \n",
    "import matplotlib.pyplot as plt\n",
    "import numpy as np\n",
    "import pandas as pd\n",
    "from scipy import stats\n",
    "import seaborn as sns\n",
    "import warnings\n",
    "import random\n",
    "from datetime import datetime\n",
    "random.seed(datetime.now())\n",
    "warnings.filterwarnings('ignore')\n",
    "import itertools\n",
    "import csv\n",
    "\n",
    "\n",
    "# Make plots larger\n",
    "plt.rcParams['figure.figsize'] = (10, 6)\n"
   ]
  },
  {
   "cell_type": "code",
   "execution_count": 3,
   "metadata": {},
   "outputs": [
    {
     "name": "stdout",
     "output_type": "stream",
     "text": [
      "Requirement already satisfied: facebook-sdk in c:\\users\\girijesh\\anaconda3\\lib\\site-packages\n",
      "Requirement already satisfied: requests in c:\\users\\girijesh\\anaconda3\\lib\\site-packages (from facebook-sdk)\n"
     ]
    },
    {
     "name": "stderr",
     "output_type": "stream",
     "text": [
      "You are using pip version 9.0.3, however version 10.0.0 is available.\n",
      "You should consider upgrading via the 'python -m pip install --upgrade pip' command.\n"
     ]
    }
   ],
   "source": [
    "!pip install facebook-sdk"
   ]
  },
  {
   "cell_type": "code",
   "execution_count": 23,
   "metadata": {
    "collapsed": true
   },
   "outputs": [],
   "source": [
    "ACCESS_TOKEN = 'EAACEdEose0cBANaiIrpS5J1vP8ibtfdvWZCB9ZC3ecqDZBEqB7GhZCgTJyiong01A3zo7fpAyfM8trg2baV6NKMvEI01XoHwyt9E0FDXSnEk4ZCCUyUURQciPkDiM6qKAB8TsZA7l0ZBdvnHU5ZChj7EUXn9TfEdd5iRiZB5s6h4gaS0REZCgddVn3sY5ZBe4XDVAaojRSnZAlh1cy91Lsl5Nxv0qbil6SxLooZCVvV3NqxGCvQZDZD'"
   ]
  },
  {
   "cell_type": "code",
   "execution_count": 19,
   "metadata": {},
   "outputs": [
    {
     "name": "stdout",
     "output_type": "stream",
     "text": [
      "Collecting facebook\n"
     ]
    },
    {
     "name": "stderr",
     "output_type": "stream",
     "text": [
      "  Could not find a version that satisfies the requirement facebook (from versions: )\n",
      "No matching distribution found for facebook\n",
      "You are using pip version 9.0.3, however version 10.0.0 is available.\n",
      "You should consider upgrading via the 'python -m pip install --upgrade pip' command.\n"
     ]
    }
   ],
   "source": [
    "!pip install facebook"
   ]
  },
  {
   "cell_type": "code",
   "execution_count": 24,
   "metadata": {
    "collapsed": true
   },
   "outputs": [],
   "source": [
    "\n",
    "import facebook # pip install facebook-sdk\n",
    "\n",
    "# Valid API versions are '2.1', '2.2', '2.3', '2.4', '2.5', '2.6', '2.7'\n",
    "\n",
    "# Create a connection to the Graph API with your access token\n",
    "g = facebook.GraphAPI(ACCESS_TOKEN, version='2.7')"
   ]
  },
  {
   "cell_type": "code",
   "execution_count": 25,
   "metadata": {
    "collapsed": true
   },
   "outputs": [],
   "source": [
    "#List of Artists:\n",
    "voice = ['Beatles','Bob Dylan','The Rolling Stones','Elvis Presley','Nirvana','Bruce Springsteen','Van Morrison',\n",
    "         'Michael Jackson', 'Chuck Berry', 'Robert Johnson', 'John Lennon', 'Stevie Wonder','James Brown','Fleetwood Mac','U2',\n",
    "         'Led Zeppelin','Joni Mitchell','Ramones','The Band','David Bowie','Carole King','Eagles','Muddy Waters','Love',\n",
    "         'Sex Pistols','The Doors', 'Pink Floyd','Patti Smith','Bob Marley ', 'John Coltrane']\n"
   ]
  },
  {
   "cell_type": "code",
   "execution_count": 106,
   "metadata": {
    "collapsed": true
   },
   "outputs": [],
   "source": [
    "#Create Dataframe for artist\n",
    "artist_names = pd.DataFrame({\"artist_names\": voice, \"artist_id\" : range(len(voice))})"
   ]
  },
  {
   "cell_type": "code",
   "execution_count": 72,
   "metadata": {
    "collapsed": true
   },
   "outputs": [],
   "source": [
    "# Create Artist CSV\n",
    "artist_names.to_csv(\"artist.csv\", index= False) "
   ]
  },
  {
   "cell_type": "code",
   "execution_count": 27,
   "metadata": {},
   "outputs": [
    {
     "data": {
      "text/plain": [
       "[]"
      ]
     },
     "execution_count": 27,
     "metadata": {},
     "output_type": "execute_result"
    }
   ],
   "source": [
    "#Official Artist Fan Pages id:\n",
    "fan_page_artist = []\n",
    "# for i in range(len(voice)):\n",
    "g.request(\"search\", {'q': voice[0], 'type': 'page'})['data']"
   ]
  },
  {
   "cell_type": "code",
   "execution_count": 968,
   "metadata": {
    "collapsed": true
   },
   "outputs": [],
   "source": [
    "# Data Frame : fan page~ fbids\n",
    "fan_art_id = pd.DataFrame({\"fan_pg_id\": range(len(fan_page_artist)), \"fan_pg_fbid\": fan_page_artist})"
   ]
  },
  {
   "cell_type": "code",
   "execution_count": 880,
   "metadata": {
    "collapsed": true
   },
   "outputs": [],
   "source": [
    "# CSV Official Artist fan pages fbids\n",
    "fan_art_id.to_csv(\"artist_fbid.csv\", index= False)"
   ]
  },
  {
   "cell_type": "code",
   "execution_count": 1,
   "metadata": {
    "collapsed": true
   },
   "outputs": [],
   "source": [
    "#Fan page name\n",
    "fan_page_nm =[]\n",
    "for i in range(len(voice)):\n",
    "    fan_page_nm.append((g.request(\"search\", {'q': voice[i], 'type': 'page'}))['data'][0]['name'])\n",
    "   "
   ]
  },
  {
   "cell_type": "code",
   "execution_count": 1381,
   "metadata": {
    "collapsed": true
   },
   "outputs": [],
   "source": [
    "#Fan Page {name,fbid, index}\n",
    "fan_page = pd.DataFrame({\"artist_id\": range(len(fan_page_artist)), \"fan_pg_fbid\": fan_page_artist,\"art_nm\": fan_page_nm , \"artist_names\": voice})"
   ]
  },
  {
   "cell_type": "code",
   "execution_count": 1382,
   "metadata": {
    "collapsed": true
   },
   "outputs": [],
   "source": [
    "#Csv Fan {names, fbid, index}\n",
    "fan_page.to_csv(\"fan_page.csv\", index= False)"
   ]
  },
  {
   "cell_type": "code",
   "execution_count": 587,
   "metadata": {
    "collapsed": true
   },
   "outputs": [],
   "source": [
    "# Fan count function:\n",
    "def fan_count(page_id):\n",
    "    return int(g.get_object(id=page_id, fields=['fan_count'])['fan_count'])"
   ]
  },
  {
   "cell_type": "code",
   "execution_count": 588,
   "metadata": {
    "collapsed": true
   },
   "outputs": [],
   "source": [
    "#Fan C0Ount for Artist fan pages:\n",
    "fan_pg_count = []\n",
    "for i in range(len(fan_page_artist)):\n",
    "    fan_pg_count.append(fan_count(fan_page_artist[i]))"
   ]
  },
  {
   "cell_type": "code",
   "execution_count": 970,
   "metadata": {
    "collapsed": true
   },
   "outputs": [],
   "source": [
    "#Data Frame Fan Page count:\n",
    "fan_pg_ct = pd.DataFrame({\"fan_pg_fbid\": fan_page_artist,\"fn_ct\": fan_pg_count, \"\"} )"
   ]
  },
  {
   "cell_type": "code",
   "execution_count": 590,
   "metadata": {
    "collapsed": true
   },
   "outputs": [],
   "source": [
    "#CSV fan page\n",
    "fan_pg_ct.to_csv(\"fan_ct.csv\")"
   ]
  },
  {
   "cell_type": "code",
   "execution_count": 591,
   "metadata": {
    "collapsed": true
   },
   "outputs": [],
   "source": [
    "# Extracting Artist fan post for from oficial fan pages: \n",
    "artist_fan_post= []\n",
    "for i in range(len(fan_page_artist)):\n",
    "    artist_fan_post.append(g.get_connections(fan_page_artist[i],'posts' )['data'])\n"
   ]
  },
  {
   "cell_type": "code",
   "execution_count": 898,
   "metadata": {
    "collapsed": true
   },
   "outputs": [],
   "source": [
    "#Creating List of every post from all atist fan pages\n",
    "artist_post_lis = []\n",
    "k=0\n",
    "for i in range(len(fan_page_artist)):\n",
    "    for j in range(len(artist_fan_post[i])):\n",
    "        artist_post_lis.append(artist_fan_post[i][j])\n",
    "        k=k+1"
   ]
  },
  {
   "cell_type": "code",
   "execution_count": 2,
   "metadata": {
    "collapsed": true
   },
   "outputs": [],
   "source": [
    "#Creating list for every element in post i.e  message, created_time, id\n",
    "column_names = ['message', 'created_time', 'id']\n",
    "lis_message = []\n",
    "lis_created_time = []\n",
    "lis_id = []\n",
    "for i in range(len(artist_post_lis)):\n",
    "    \n",
    "    if 'message' in artist_post_lis[i]:\n",
    "        lis_message.append(artist_post_lis[i]['message'])\n",
    "       \n",
    "    else:\n",
    "         lis_message.append('None') \n",
    "        \n",
    "    if 'created_time' in artist_post_lis[i]:\n",
    "        lis_created_time.append(artist_post_lis[i]['created_time'])\n",
    "        \n",
    "    \n",
    "    else:\n",
    "        lis_created_time.append('None') \n",
    "       \n",
    "   \n",
    "    if 'id' in artist_post_lis[i]:\n",
    "        lis_id.append(artist_post_lis[i]['id'])\n",
    "    \n",
    "    else:\n",
    "        lis_id.append('None') "
   ]
  },
  {
   "cell_type": "code",
   "execution_count": 92,
   "metadata": {
    "collapsed": true
   },
   "outputs": [],
   "source": [
    "#Creating dataframe Artist Fan Pages and post:\n",
    "import pandas as pd\n",
    "xfart = pd.DataFrame({'message': lis_message, 'created_id' : lis_created_time, 'post_id': lis_id})\n"
   ]
  },
  {
   "cell_type": "code",
   "execution_count": 62,
   "metadata": {
    "collapsed": true
   },
   "outputs": [],
   "source": [
    "page_id=[]\n",
    "for i in fan_page_artist:\n",
    "    flag=0\n",
    "    for j,row in xfart.iterrows():\n",
    "        if(flag<25):\n",
    "            page_id.append(i)\n",
    "            flag=flag+1       "
   ]
  },
  {
   "cell_type": "code",
   "execution_count": null,
   "metadata": {
    "collapsed": true
   },
   "outputs": [],
   "source": [
    "page_id=[]\n",
    "for i in fan_page_artist:\n",
    "    flag=0\n",
    "    for j,row in xfart.iterrows():\n",
    "        if(flag<25):\n",
    "            page_id.append(i)\n",
    "            flag=flag+1       "
   ]
  },
  {
   "cell_type": "code",
   "execution_count": 502,
   "metadata": {},
   "outputs": [],
   "source": [
    "# Influence Table{post_id, rel_eng}\n",
    "artist_infl = pandas.read_csv(\"C:/Users/Girijesh/Desktop/Project- DB/post_eng.csv\", index_col=  False, header= 0,  encoding = \"ISO-8859-1\")"
   ]
  },
  {
   "cell_type": "code",
   "execution_count": 501,
   "metadata": {},
   "outputs": [],
   "source": [
    "artist_nms =[]\n",
    "for k in voice:\n",
    "    flag=0\n",
    "    print(k)\n",
    "    for row in xfart.iterrows():\n",
    "        if(flag<25):\n",
    "            print (row)\n",
    "            artist_nms.append(k)\n",
    "            flag=flag+1"
   ]
  },
  {
   "cell_type": "code",
   "execution_count": 4,
   "metadata": {
    "collapsed": true
   },
   "outputs": [],
   "source": [
    "# for row, i in xfart.iterrows():\n",
    "#     print(row)\n",
    "#     print(i)\n",
    "xfart['artist_names'] = artist_nms\n",
    "xfart['page_id'] = page_id\n",
    "xfart"
   ]
  },
  {
   "cell_type": "code",
   "execution_count": 616,
   "metadata": {
    "collapsed": true
   },
   "outputs": [],
   "source": [
    "xfart.to_csv(\"artist_post.csv\")"
   ]
  },
  {
   "cell_type": "code",
   "execution_count": 84,
   "metadata": {
    "collapsed": true
   },
   "outputs": [],
   "source": [
    "def post_engagement(post_id):\n",
    "    likes = g.get_object(id=post_id, \n",
    "                         fields=['likes.limit(0).summary(true)'])\\\n",
    "                         ['likes']['summary']['total_count']\n",
    "    try:\n",
    "        shares = g.get_object(id=post_id, \n",
    "                            fields=['shares.limit(0).summary(true)'])\\\n",
    "                           ['shares']['count']\n",
    "    except KeyError:\n",
    "        shares = 0;\n",
    "    comments = g.get_object(id=post_id, \n",
    "                         fields=['comments.limit(0).summary(true)'])\\\n",
    "                         ['comments']['summary']['total_count']\n",
    "    return likes, shares, comments"
   ]
  },
  {
   "cell_type": "code",
   "execution_count": 91,
   "metadata": {
    "collapsed": true
   },
   "outputs": [],
   "source": [
    "#eng-post\n",
    "s = []\n",
    "for i in range(len(lis_id)):\n",
    "    s.append(post_engagement(lis_id[i]))"
   ]
  },
  {
   "cell_type": "code",
   "execution_count": 86,
   "metadata": {
    "collapsed": true
   },
   "outputs": [],
   "source": [
    "eng_post = s"
   ]
  },
  {
   "cell_type": "code",
   "execution_count": 87,
   "metadata": {
    "collapsed": true
   },
   "outputs": [],
   "source": [
    "#List of likes,comments, Shares\n",
    "likes = []\n",
    "comments =[]\n",
    "shares = []\n",
    "for i in range(len(lis_id)):\n",
    "    likes.append(s[i][0])\n",
    "    comments.append(s[i][1])\n",
    "    shares.append(s[i][2])\n"
   ]
  },
  {
   "cell_type": "code",
   "execution_count": 36,
   "metadata": {
    "collapsed": true
   },
   "outputs": [],
   "source": [
    "d = pd.DataFrame({\"post_id\": fan_pg_fbid  , \"post_likes\": lk, \"post_comment\": comnt, \"shares\" : shr})\n",
    "page_id=[]\n",
    "for i in fan_page_artist:\n",
    "    flag=0\n",
    "    for j,row in xfart.iterrows():\n",
    "        if(flag<25):\n",
    "            page_id.append(i)\n",
    "            flag=flag+1\n",
    "d['page_id'] = page_id\n",
    "d"
   ]
  },
  {
   "cell_type": "code",
   "execution_count": 45,
   "metadata": {
    "collapsed": true
   },
   "outputs": [],
   "source": [
    "post_id = xfart['fan_pg_id']\n"
   ]
  },
  {
   "cell_type": "code",
   "execution_count": 83,
   "metadata": {
    "collapsed": true,
    "scrolled": true
   },
   "outputs": [],
   "source": [
    "# d = pd.DataFrame({\"post_id\": post_id  , \"post_likes\": lk, \"post_comment\": comnt, \"shares\" : shr})\n",
    "d= pandas.read_csv(\"C:/Users/Girijesh/Desktop/Project- DB/post_eng_metric.csv\", index_col=  False, header= 0,  encoding = \"ISO-8859-1\")"
   ]
  },
  {
   "cell_type": "code",
   "execution_count": 724,
   "metadata": {
    "collapsed": true
   },
   "outputs": [],
   "source": [
    "# function for Relativ engagement:\n",
    "def relative_engagement(e, total_fans):\n",
    "    a=[]\n",
    "    for i in e:\n",
    "        a.append(i/total_fans)\n",
    "    return a"
   ]
  },
  {
   "cell_type": "code",
   "execution_count": 900,
   "metadata": {
    "collapsed": true
   },
   "outputs": [],
   "source": [
    "# Measure the relative share of a page's fans engaging with a post\n",
    "re_eng= []\n",
    "k = 0\n",
    "for i in range(len(fan_pg_count)):\n",
    "    flag=0\n",
    "    for j in range(len(eng_post)):\n",
    "        if(flag<25):\n",
    "            re_eng.append(relative_engagement(eng_post[k],fan_pg_count[i])[1])\n",
    "            flag= flag+1\n",
    "            k=k+1         "
   ]
  },
  {
   "cell_type": "code",
   "execution_count": 1563,
   "metadata": {
    "collapsed": true
   },
   "outputs": [],
   "source": [
    "#Data Frame post enagement\n",
    "artist_infl = pd.DataFrame({\"post_id\":lis_id, \"rel_eng\": re_eng })"
   ]
  },
  {
   "cell_type": "code",
   "execution_count": 732,
   "metadata": {
    "collapsed": true
   },
   "outputs": [],
   "source": [
    "#CSV re_eng\n",
    "post_eng.to_csv(\"post_eng.csv\")"
   ]
  },
  {
   "cell_type": "code",
   "execution_count": null,
   "metadata": {
    "collapsed": true
   },
   "outputs": [],
   "source": [
    "################################################################################################################################"
   ]
  },
  {
   "cell_type": "code",
   "execution_count": 2,
   "metadata": {
    "collapsed": true
   },
   "outputs": [],
   "source": [
    "#7 Tag Table\n",
    "import pandas as pd\n",
    "tags = ['Jazz', 'Rock', 'Pop', 'Blues', 'Folk', 'World', 'Country', 'Funk', 'Soul', 'Pop','Reggae', 'Electronic' ]  \n",
    "tag_df = pd.DataFrame({'tags': tags})\n",
    "\n",
    "# tag_df"
   ]
  },
  {
   "cell_type": "code",
   "execution_count": 3,
   "metadata": {
    "collapsed": true
   },
   "outputs": [],
   "source": [
    "#CSV Tags {tags}\n",
    "tag_df.to_csv(\"tags.csv\", index= False)"
   ]
  },
  {
   "cell_type": "code",
   "execution_count": 4,
   "metadata": {
    "collapsed": true
   },
   "outputs": [],
   "source": [
    "#1 Csv Read Artist {artist_id, artist_names}\n",
    "import pandas\n",
    "artist_names = pandas.read_csv(\"C:/Users/Girijesh/Desktop/Project- DB/artist (1).csv\", index_col=  False, header= 0)"
   ]
  },
  {
   "cell_type": "code",
   "execution_count": 5,
   "metadata": {
    "collapsed": true
   },
   "outputs": [],
   "source": [
    "#2Fan Pages Read(artist_names, fan_pg_fbid, artist_id, art_nm(official fan page name))\n",
    "fan_page= pandas.read_csv(\"C:/Users/Girijesh/Desktop/Project- DB/fan_page.csv\", index_col=  False, header= 0)"
   ]
  },
  {
   "cell_type": "code",
   "execution_count": 368,
   "metadata": {
    "collapsed": true
   },
   "outputs": [],
   "source": [
    "#3 Read CSv Fan Page Count(fan_pg_fbid, fn_ct)\n",
    "fan_pg_ct = pandas.read_csv(\"C:/Users/Girijesh/Desktop/Project- DB/fan_ct.csv\", index_col=  False, header= 0)"
   ]
  },
  {
   "cell_type": "code",
   "execution_count": 133,
   "metadata": {
    "collapsed": true
   },
   "outputs": [],
   "source": [
    "#4 Read CSv Artist_post(created_id, post_id, message, fan_pg_fbid)\n",
    "xfart= pandas.read_csv(\"C:/Users/Girijesh/Desktop/Project- DB/artist_post.csv\", index_col=  False, header= 0,  encoding = \"ISO-8859-1\")\n"
   ]
  },
  {
   "cell_type": "code",
   "execution_count": 214,
   "metadata": {
    "collapsed": true
   },
   "outputs": [],
   "source": [
    "#5 Read Post Engagement\n",
    "d= pandas.read_csv(\"C:/Users/Girijesh/Desktop/Project- DB/post_eng_metric.csv\", index_col=  False, header= 0,  encoding = \"ISO-8859-1\")\n"
   ]
  },
  {
   "cell_type": "code",
   "execution_count": 8,
   "metadata": {
    "collapsed": true
   },
   "outputs": [],
   "source": [
    "#6 Influence Table{post_id, rel_eng}\n",
    "artist_infl = pandas.read_csv(\"C:/Users/Girijesh/Desktop/Project- DB/post_eng.csv\", index_col=  False, header= 0,  encoding = \"ISO-8859-1\")\n"
   ]
  },
  {
   "cell_type": "code",
   "execution_count": 48,
   "metadata": {
    "collapsed": true
   },
   "outputs": [],
   "source": [
    "xfart['post_likes'] = d['post_likes']\n",
    "xfart['post_comments'] = d['post_comments']\n",
    "xfart['post_shares'] = d['post_shares']\n",
    "xfart['relative_eng'] = artist_infl['rel_eng']"
   ]
  },
  {
   "cell_type": "code",
   "execution_count": 136,
   "metadata": {},
   "outputs": [],
   "source": [
    "fan_count=[]\n",
    "for i in fan_pg_ct[\"fn_ct\"]:\n",
    "    flag=0\n",
    "    for j,row in xfart.iterrows():\n",
    "        if(flag<25):\n",
    "            fan_count.append(i)\n",
    "            flag=flag+1   "
   ]
  },
  {
   "cell_type": "code",
   "execution_count": 14,
   "metadata": {
    "collapsed": true
   },
   "outputs": [],
   "source": [
    "fan_pg_fbid1=[]\n",
    "for i in fan_pg_ct[\"fan_pg_fbid\"]:\n",
    "    flag=0\n",
    "    for j,row in xfart.iterrows():\n",
    "        if(flag<25):\n",
    "            fan_pg_fbid1.append(i)\n",
    "            flag=flag+1 "
   ]
  },
  {
   "cell_type": "code",
   "execution_count": 15,
   "metadata": {
    "collapsed": true
   },
   "outputs": [],
   "source": [
    "fan_pg_fbid1=[]\n",
    "for i in fan_pg_ct[\"fan_pg_fbid\"]:\n",
    "    flag=0\n",
    "    for j,row in xfart.iterrows():\n",
    "        if(flag<25):\n",
    "            fan_pg_fbid1.append(i)\n",
    "            flag=flag+1 "
   ]
  },
  {
   "cell_type": "code",
   "execution_count": 16,
   "metadata": {
    "collapsed": true
   },
   "outputs": [],
   "source": [
    "artist_names1=[]\n",
    "for i in fan_page[\"artist_names\"]:\n",
    "    flag=0\n",
    "    for j,row in xfart.iterrows():\n",
    "        if(flag<25):\n",
    "            artist_names1.append(i)\n",
    "            flag=flag+1 "
   ]
  },
  {
   "cell_type": "code",
   "execution_count": 17,
   "metadata": {
    "collapsed": true
   },
   "outputs": [],
   "source": [
    "artist_nm1=[]\n",
    "for i in fan_page[\"art_nm\"]:\n",
    "    flag=0\n",
    "    for j,row in xfart.iterrows():\n",
    "        if(flag<25):\n",
    "            artist_nm1.append(i)\n",
    "            flag=flag+1 "
   ]
  },
  {
   "cell_type": "code",
   "execution_count": 20,
   "metadata": {
    "collapsed": true
   },
   "outputs": [],
   "source": [
    "tag_ct= []\n",
    "for i in yy:\n",
    "    flag=0\n",
    "    for j in xfart.iterrows():\n",
    "        if(flag<25):\n",
    "            tag_ct.append(i)\n",
    "            flag= flag+1"
   ]
  },
  {
   "cell_type": "code",
   "execution_count": 49,
   "metadata": {
    "collapsed": true
   },
   "outputs": [],
   "source": [
    "fan_c1 = pd.Series(fan_count)\n",
    "fan_pg_fbid1 = pd.Series(fan_pg_fbid1)\n",
    "artist_names1 = pd.Series(artist_names1)\n",
    "artist_nm1 =pd.Series(artist_nm1)\n",
    "tag_ct= pd.Series(tag_ct)\n",
    "xfart['fan_count'] =fan_c1.values\n",
    "xfart['fan_pg_fbid']= fan_pg_fbid1.values\n",
    "xfart['artist_names1'] = artist_names1.values\n",
    "xfart['artist_fan_page_nm'] = artist_nm1.values\n",
    "xfart[\"tag_counts\"] = tag_ct.values"
   ]
  },
  {
   "cell_type": "markdown",
   "metadata": {},
   "source": [
    "# Ques7. Topics Trending in my domain"
   ]
  },
  {
   "cell_type": "markdown",
   "metadata": {},
   "source": [
    "Explaination:\n",
    "1.I used regular expression for all the tags used Artist wise and calculate the tags. "
   ]
  },
  {
   "cell_type": "code",
   "execution_count": 310,
   "metadata": {
    "collapsed": true,
    "scrolled": true
   },
   "outputs": [],
   "source": [
    "# tags = ['Jazz', 'Rock', 'Pop', 'Blues', 'Folk', 'World', 'Country', 'Funk', 'Soul', 'Pop','Reggae', 'Electronic' ]  \n",
    "# Tag counts\n",
    "import re\n",
    "word_regexs = [r'rock', r'country', r'jazz', r'pop', r'folk', r'world', r'funk', r'soul', r'reggae', r'beatles', r'rap', r'canadian']\n",
    "xx= []\n",
    "yy= []\n",
    "for i in range(len(fan_pg_ct)):\n",
    "    xx.append(artist_names['artist_names'][i])\n",
    "    yy.append(pandas.Series((xfart.loc[xfart['fan_pg_fbid'] == fan_pg_ct['fan_pg_fbid'][i]].message.str.lower().str.contains(r, case= False).sum() for r in word_regexs), word_regexs, name='count'))\n",
    "    "
   ]
  },
  {
   "cell_type": "code",
   "execution_count": 311,
   "metadata": {},
   "outputs": [
    {
     "data": {
      "text/plain": [
       "[rock        0\n",
       " country     0\n",
       " jazz        0\n",
       " pop         0\n",
       " folk        0\n",
       " world       2\n",
       " funk        0\n",
       " soul        0\n",
       " reggae      0\n",
       " beatles     5\n",
       " rap         0\n",
       " canadian    0\n",
       " Name: count, dtype: int64, rock        0\n",
       " country     2\n",
       " jazz        1\n",
       " pop         0\n",
       " folk        1\n",
       " world       0\n",
       " funk        1\n",
       " soul        1\n",
       " reggae      0\n",
       " beatles     0\n",
       " rap         0\n",
       " canadian    0\n",
       " Name: count, dtype: int64, rock        0\n",
       " country     0\n",
       " jazz        0\n",
       " pop         0\n",
       " folk        0\n",
       " world       2\n",
       " funk        1\n",
       " soul        0\n",
       " reggae      0\n",
       " beatles     0\n",
       " rap         0\n",
       " canadian    0\n",
       " Name: count, dtype: int64, rock        3\n",
       " country     0\n",
       " jazz        0\n",
       " pop         0\n",
       " folk        0\n",
       " world       2\n",
       " funk        0\n",
       " soul        0\n",
       " reggae      0\n",
       " beatles     0\n",
       " rap         0\n",
       " canadian    0\n",
       " Name: count, dtype: int64, rock        1\n",
       " country     0\n",
       " jazz        0\n",
       " pop         4\n",
       " folk        0\n",
       " world       1\n",
       " funk        0\n",
       " soul        0\n",
       " reggae      0\n",
       " beatles     0\n",
       " rap         0\n",
       " canadian    0\n",
       " Name: count, dtype: int64, rock        1\n",
       " country     0\n",
       " jazz        1\n",
       " pop         0\n",
       " folk        0\n",
       " world       0\n",
       " funk        0\n",
       " soul        0\n",
       " reggae      0\n",
       " beatles     0\n",
       " rap         5\n",
       " canadian    0\n",
       " Name: count, dtype: int64, rock        0\n",
       " country     0\n",
       " jazz        2\n",
       " pop         0\n",
       " folk        0\n",
       " world       1\n",
       " funk        0\n",
       " soul        0\n",
       " reggae      0\n",
       " beatles     0\n",
       " rap         0\n",
       " canadian    0\n",
       " Name: count, dtype: int64, rock        2\n",
       " country     0\n",
       " jazz        0\n",
       " pop         1\n",
       " folk        0\n",
       " world       1\n",
       " funk        0\n",
       " soul        3\n",
       " reggae      0\n",
       " beatles     0\n",
       " rap         0\n",
       " canadian    0\n",
       " Name: count, dtype: int64, rock        4\n",
       " country     0\n",
       " jazz        0\n",
       " pop         0\n",
       " folk        0\n",
       " world       4\n",
       " funk        1\n",
       " soul        0\n",
       " reggae      0\n",
       " beatles     0\n",
       " rap         0\n",
       " canadian    0\n",
       " Name: count, dtype: int64, rock        0\n",
       " country     0\n",
       " jazz        0\n",
       " pop         0\n",
       " folk        0\n",
       " world       0\n",
       " funk        0\n",
       " soul        0\n",
       " reggae      0\n",
       " beatles     0\n",
       " rap         0\n",
       " canadian    0\n",
       " Name: count, dtype: int64, rock        0\n",
       " country     0\n",
       " jazz        0\n",
       " pop         0\n",
       " folk        0\n",
       " world       1\n",
       " funk        0\n",
       " soul        0\n",
       " reggae      0\n",
       " beatles     1\n",
       " rap         0\n",
       " canadian    0\n",
       " Name: count, dtype: int64, rock        0\n",
       " country     0\n",
       " jazz        0\n",
       " pop         0\n",
       " folk        0\n",
       " world       0\n",
       " funk        2\n",
       " soul        0\n",
       " reggae      1\n",
       " beatles     1\n",
       " rap         0\n",
       " canadian    0\n",
       " Name: count, dtype: int64, rock        1\n",
       " country     0\n",
       " jazz        0\n",
       " pop         0\n",
       " folk        0\n",
       " world       3\n",
       " funk        2\n",
       " soul        4\n",
       " reggae      0\n",
       " beatles     0\n",
       " rap         0\n",
       " canadian    0\n",
       " Name: count, dtype: int64, rock        0\n",
       " country     0\n",
       " jazz        0\n",
       " pop         0\n",
       " folk        0\n",
       " world       0\n",
       " funk        0\n",
       " soul        0\n",
       " reggae      0\n",
       " beatles     0\n",
       " rap         0\n",
       " canadian    0\n",
       " Name: count, dtype: int64, rock        2\n",
       " country     0\n",
       " jazz        0\n",
       " pop         3\n",
       " folk        0\n",
       " world       0\n",
       " funk        0\n",
       " soul        1\n",
       " reggae      0\n",
       " beatles     0\n",
       " rap         0\n",
       " canadian    0\n",
       " Name: count, dtype: int64, rock        2\n",
       " country     0\n",
       " jazz        0\n",
       " pop         0\n",
       " folk        0\n",
       " world       2\n",
       " funk        0\n",
       " soul        0\n",
       " reggae      0\n",
       " beatles     0\n",
       " rap         1\n",
       " canadian    0\n",
       " Name: count, dtype: int64, rock        1\n",
       " country     0\n",
       " jazz        0\n",
       " pop         0\n",
       " folk        0\n",
       " world       1\n",
       " funk        0\n",
       " soul        0\n",
       " reggae      0\n",
       " beatles     0\n",
       " rap         1\n",
       " canadian    0\n",
       " Name: count, dtype: int64, rock        1\n",
       " country     0\n",
       " jazz        0\n",
       " pop         0\n",
       " folk        0\n",
       " world       0\n",
       " funk        0\n",
       " soul        0\n",
       " reggae      0\n",
       " beatles     0\n",
       " rap         0\n",
       " canadian    0\n",
       " Name: count, dtype: int64, rock        0\n",
       " country     0\n",
       " jazz        0\n",
       " pop         0\n",
       " folk        0\n",
       " world       0\n",
       " funk        0\n",
       " soul        0\n",
       " reggae      0\n",
       " beatles     0\n",
       " rap         0\n",
       " canadian    0\n",
       " Name: count, dtype: int64, rock        4\n",
       " country     0\n",
       " jazz        1\n",
       " pop         2\n",
       " folk        2\n",
       " world       4\n",
       " funk        1\n",
       " soul        0\n",
       " reggae      0\n",
       " beatles     0\n",
       " rap         8\n",
       " canadian    1\n",
       " Name: count, dtype: int64, rock        1\n",
       " country     0\n",
       " jazz        0\n",
       " pop         0\n",
       " folk        0\n",
       " world       1\n",
       " funk        0\n",
       " soul        0\n",
       " reggae      0\n",
       " beatles     0\n",
       " rap         4\n",
       " canadian    0\n",
       " Name: count, dtype: int64, rock        0\n",
       " country     1\n",
       " jazz        0\n",
       " pop         0\n",
       " folk        0\n",
       " world       0\n",
       " funk        0\n",
       " soul        0\n",
       " reggae      0\n",
       " beatles     0\n",
       " rap         0\n",
       " canadian    0\n",
       " Name: count, dtype: int64, rock        4\n",
       " country     0\n",
       " jazz        1\n",
       " pop         0\n",
       " folk        2\n",
       " world       1\n",
       " funk        1\n",
       " soul        1\n",
       " reggae      0\n",
       " beatles     0\n",
       " rap         0\n",
       " canadian    0\n",
       " Name: count, dtype: int64, rock        0\n",
       " country     0\n",
       " jazz        0\n",
       " pop         1\n",
       " folk        0\n",
       " world       0\n",
       " funk        0\n",
       " soul        0\n",
       " reggae      0\n",
       " beatles     0\n",
       " rap         3\n",
       " canadian    0\n",
       " Name: count, dtype: int64, rock        1\n",
       " country     0\n",
       " jazz        0\n",
       " pop         0\n",
       " folk        0\n",
       " world       1\n",
       " funk        0\n",
       " soul        0\n",
       " reggae      0\n",
       " beatles     0\n",
       " rap         0\n",
       " canadian    0\n",
       " Name: count, dtype: int64, rock        2\n",
       " country     0\n",
       " jazz        1\n",
       " pop         1\n",
       " folk        0\n",
       " world       2\n",
       " funk        0\n",
       " soul        0\n",
       " reggae      0\n",
       " beatles     0\n",
       " rap         2\n",
       " canadian    0\n",
       " Name: count, dtype: int64, rock        0\n",
       " country     1\n",
       " jazz        0\n",
       " pop         1\n",
       " folk        0\n",
       " world       0\n",
       " funk        0\n",
       " soul        0\n",
       " reggae      0\n",
       " beatles     0\n",
       " rap         1\n",
       " canadian    0\n",
       " Name: count, dtype: int64, rock        0\n",
       " country     0\n",
       " jazz        0\n",
       " pop         0\n",
       " folk        0\n",
       " world       0\n",
       " funk        0\n",
       " soul        0\n",
       " reggae      0\n",
       " beatles     0\n",
       " rap         0\n",
       " canadian    0\n",
       " Name: count, dtype: int64, rock        1\n",
       " country     0\n",
       " jazz        0\n",
       " pop         0\n",
       " folk        0\n",
       " world       1\n",
       " funk        0\n",
       " soul        1\n",
       " reggae      0\n",
       " beatles     0\n",
       " rap         0\n",
       " canadian    0\n",
       " Name: count, dtype: int64, rock        0\n",
       " country     0\n",
       " jazz        9\n",
       " pop         0\n",
       " folk        0\n",
       " world       0\n",
       " funk        0\n",
       " soul        0\n",
       " reggae      0\n",
       " beatles     0\n",
       " rap         0\n",
       " canadian    0\n",
       " Name: count, dtype: int64]"
      ]
     },
     "execution_count": 311,
     "metadata": {},
     "output_type": "execute_result"
    }
   ],
   "source": [
    "yy"
   ]
  },
  {
   "cell_type": "markdown",
   "metadata": {},
   "source": [
    "# Ques2. Viral are my posts"
   ]
  },
  {
   "cell_type": "markdown",
   "metadata": {},
   "source": [
    "Expalaination:\n",
    "1.The Virality of the posts is being inferred as number of shares made on artist page. \n",
    "2.The number of shares for all posts are  clubbed and then are ordered in decreasing. "
   ]
  },
  {
   "cell_type": "code",
   "execution_count": 463,
   "metadata": {
    "collapsed": true
   },
   "outputs": [],
   "source": [
    "import sqlite3\n",
    "sqlite_file='n_artist.db7'\n",
    "conn = sqlite3.connect(sqlite_file)\n",
    "c=conn.cursor()"
   ]
  },
  {
   "cell_type": "code",
   "execution_count": 472,
   "metadata": {
    "scrolled": true
   },
   "outputs": [],
   "source": [
    "#\n",
    "d.to_sql('post_eng_table', \n",
    "        con= conn,\n",
    "        if_exists = 'replace',\n",
    "        index= False)\n"
   ]
  },
  {
   "cell_type": "code",
   "execution_count": 499,
   "metadata": {
    "scrolled": true
   },
   "outputs": [
    {
     "data": {
      "text/html": [
       "<div>\n",
       "<style>\n",
       "    .dataframe thead tr:only-child th {\n",
       "        text-align: right;\n",
       "    }\n",
       "\n",
       "    .dataframe thead th {\n",
       "        text-align: left;\n",
       "    }\n",
       "\n",
       "    .dataframe tbody tr th {\n",
       "        vertical-align: top;\n",
       "    }\n",
       "</style>\n",
       "<table border=\"1\" class=\"dataframe\">\n",
       "  <thead>\n",
       "    <tr style=\"text-align: right;\">\n",
       "      <th></th>\n",
       "      <th>post_shares</th>\n",
       "      <th>page_id</th>\n",
       "    </tr>\n",
       "  </thead>\n",
       "  <tbody>\n",
       "    <tr>\n",
       "      <th>0</th>\n",
       "      <td>43232</td>\n",
       "      <td>'Beatles'</td>\n",
       "    </tr>\n",
       "    <tr>\n",
       "      <th>1</th>\n",
       "      <td>873</td>\n",
       "      <td>'Joni Mitchell'</td>\n",
       "    </tr>\n",
       "    <tr>\n",
       "      <th>2</th>\n",
       "      <td>636</td>\n",
       "      <td>'Elvis Presley'</td>\n",
       "    </tr>\n",
       "    <tr>\n",
       "      <th>3</th>\n",
       "      <td>403</td>\n",
       "      <td>'U2'</td>\n",
       "    </tr>\n",
       "  </tbody>\n",
       "</table>\n",
       "</div>"
      ],
      "text/plain": [
       "   post_shares           page_id\n",
       "0        43232         'Beatles'\n",
       "1          873   'Joni Mitchell'\n",
       "2          636   'Elvis Presley'\n",
       "3          403              'U2'"
      ]
     },
     "execution_count": 499,
     "metadata": {},
     "output_type": "execute_result"
    }
   ],
   "source": [
    "c.execute('Select post_shares, page_id from post_eng_table Group by page_id ORDER BY post_shares DESC ')\n",
    "pd.read_sql_query(\"\"\"SELECT post_shares, page_id FROM post_eng_table GROUP BY page_id ORDER BY post_shares DESC\"\"\", conn).head(4)"
   ]
  },
  {
   "cell_type": "markdown",
   "metadata": {},
   "source": [
    "# Ques3.\tHow\tmuch\tinfluence\tto\tmy\tposts have?"
   ]
  },
  {
   "cell_type": "markdown",
   "metadata": {},
   "source": [
    "Explaination:\n",
    "1The influence of the artist is being viewed with respect to relative engagement of post with fans of the page.\n",
    "2.Further thr rel_eng is ordered in decreasing."
   ]
  },
  {
   "cell_type": "code",
   "execution_count": 484,
   "metadata": {
    "collapsed": true
   },
   "outputs": [],
   "source": [
    "import sqlite3\n",
    "sqlite_file='n_artist.db7'\n",
    "conn = sqlite3.connect(sqlite_file)\n",
    "c=conn.cursor()"
   ]
  },
  {
   "cell_type": "code",
   "execution_count": 496,
   "metadata": {},
   "outputs": [],
   "source": [
    "xfart.to_sql('fan_post_table', \n",
    "            con= conn, \n",
    "            if_exists = 'replace', \n",
    "            index= False)"
   ]
  },
  {
   "cell_type": "code",
   "execution_count": 492,
   "metadata": {},
   "outputs": [],
   "source": [
    "xfart['rel_eng']= artist_infl['rel_eng']"
   ]
  },
  {
   "cell_type": "code",
   "execution_count": 494,
   "metadata": {},
   "outputs": [],
   "source": [
    "xfart['artist_names'] = artist_infl['artist_names']"
   ]
  },
  {
   "cell_type": "code",
   "execution_count": 498,
   "metadata": {},
   "outputs": [
    {
     "data": {
      "text/html": [
       "<div>\n",
       "<style>\n",
       "    .dataframe thead tr:only-child th {\n",
       "        text-align: right;\n",
       "    }\n",
       "\n",
       "    .dataframe thead th {\n",
       "        text-align: left;\n",
       "    }\n",
       "\n",
       "    .dataframe tbody tr th {\n",
       "        vertical-align: top;\n",
       "    }\n",
       "</style>\n",
       "<table border=\"1\" class=\"dataframe\">\n",
       "  <thead>\n",
       "    <tr style=\"text-align: right;\">\n",
       "      <th></th>\n",
       "      <th>rel_eng</th>\n",
       "      <th>artist_names</th>\n",
       "    </tr>\n",
       "  </thead>\n",
       "  <tbody>\n",
       "    <tr>\n",
       "      <th>0</th>\n",
       "      <td>0.001437</td>\n",
       "      <td>Bob Marley</td>\n",
       "    </tr>\n",
       "    <tr>\n",
       "      <th>1</th>\n",
       "      <td>0.001400</td>\n",
       "      <td>Carole King</td>\n",
       "    </tr>\n",
       "    <tr>\n",
       "      <th>2</th>\n",
       "      <td>0.000388</td>\n",
       "      <td>Joni Mitchell</td>\n",
       "    </tr>\n",
       "    <tr>\n",
       "      <th>3</th>\n",
       "      <td>0.000303</td>\n",
       "      <td>The Band</td>\n",
       "    </tr>\n",
       "    <tr>\n",
       "      <th>4</th>\n",
       "      <td>0.000272</td>\n",
       "      <td>Elvis Presley</td>\n",
       "    </tr>\n",
       "  </tbody>\n",
       "</table>\n",
       "</div>"
      ],
      "text/plain": [
       "    rel_eng   artist_names\n",
       "0  0.001437    Bob Marley \n",
       "1  0.001400    Carole King\n",
       "2  0.000388  Joni Mitchell\n",
       "3  0.000303       The Band\n",
       "4  0.000272  Elvis Presley"
      ]
     },
     "execution_count": 498,
     "metadata": {},
     "output_type": "execute_result"
    }
   ],
   "source": [
    "c.execute(\"Select rel_eng, artist_names from fan_post_table GROUP BY artist_names ORDER BY rel_eng DESC \")\n",
    "pd.read_sql_query(\"\"\"Select rel_eng, artist_names from fan_post_table GROUP BY artist_names ORDER BY rel_eng DESC\"\"\", conn).head(5)"
   ]
  },
  {
   "cell_type": "markdown",
   "metadata": {},
   "source": [
    "# Ques12 Whats my Reach?"
   ]
  },
  {
   "cell_type": "markdown",
   "metadata": {},
   "source": [
    "Explaination:\n",
    "1.I have defined reach by the number of fans for each page. \n",
    "2.Then I have order in Decreasing count of fans count."
   ]
  },
  {
   "cell_type": "code",
   "execution_count": 106,
   "metadata": {},
   "outputs": [
    {
     "name": "stderr",
     "output_type": "stream",
     "text": [
      "C:\\Users\\Girijesh\\Anaconda3\\lib\\site-packages\\pandas\\core\\generic.py:1345: UserWarning: The spaces in these column names will not be changed. In pandas versions < 0.14, spaces were converted to underscores.\n",
      "  chunksize=chunksize, dtype=dtype)\n"
     ]
    }
   ],
   "source": [
    "fan_pg_ct.to_sql('fan_count_table', \n",
    "            con= conn, \n",
    "            if_exists = 'replace', \n",
    "            index= False)"
   ]
  },
  {
   "cell_type": "code",
   "execution_count": 109,
   "metadata": {},
   "outputs": [
    {
     "data": {
      "text/html": [
       "<div>\n",
       "<style>\n",
       "    .dataframe thead tr:only-child th {\n",
       "        text-align: right;\n",
       "    }\n",
       "\n",
       "    .dataframe thead th {\n",
       "        text-align: left;\n",
       "    }\n",
       "\n",
       "    .dataframe tbody tr th {\n",
       "        vertical-align: top;\n",
       "    }\n",
       "</style>\n",
       "<table border=\"1\" class=\"dataframe\">\n",
       "  <thead>\n",
       "    <tr style=\"text-align: right;\">\n",
       "      <th></th>\n",
       "      <th>fn_ct</th>\n",
       "      <th>artist_names</th>\n",
       "    </tr>\n",
       "  </thead>\n",
       "  <tbody>\n",
       "    <tr>\n",
       "      <th>0</th>\n",
       "      <td>73994488</td>\n",
       "      <td>Michael Jackson</td>\n",
       "    </tr>\n",
       "    <tr>\n",
       "      <th>1</th>\n",
       "      <td>41424634</td>\n",
       "      <td>Beatles</td>\n",
       "    </tr>\n",
       "    <tr>\n",
       "      <th>2</th>\n",
       "      <td>29006435</td>\n",
       "      <td>Pink Floyd</td>\n",
       "    </tr>\n",
       "    <tr>\n",
       "      <th>3</th>\n",
       "      <td>27474321</td>\n",
       "      <td>Nirvana</td>\n",
       "    </tr>\n",
       "    <tr>\n",
       "      <th>4</th>\n",
       "      <td>19842266</td>\n",
       "      <td>The Rolling Stones</td>\n",
       "    </tr>\n",
       "  </tbody>\n",
       "</table>\n",
       "</div>"
      ],
      "text/plain": [
       "      fn_ct        artist_names\n",
       "0  73994488     Michael Jackson\n",
       "1  41424634             Beatles\n",
       "2  29006435          Pink Floyd\n",
       "3  27474321             Nirvana\n",
       "4  19842266  The Rolling Stones"
      ]
     },
     "execution_count": 109,
     "metadata": {},
     "output_type": "execute_result"
    }
   ],
   "source": [
    "c.execute(\"Select fn_ct, artist_names from fan_count_table as x JOIN fan_pages_table as y WHERE x.fan_pg_fbid= y.fan_pg_fbid ORDER BY fn_ct DESC \")\n",
    "pd.read_sql_query(\"\"\"Select fn_ct, artist_names from fan_count_table as x JOIN fan_pages_table as y WHERE x.fan_pg_fbid = y.fan_pg_fbid ORDER BY fn_ct DESC\"\"\", conn).head(5)"
   ]
  },
  {
   "cell_type": "markdown",
   "metadata": {},
   "source": [
    "# Ques11 : Should I add url to my post "
   ]
  },
  {
   "cell_type": "markdown",
   "metadata": {},
   "source": [
    "Explaination:\n",
    "\n",
    "1.For getting I used the regular expressions. \n",
    "2.I identified the number of urls each post possessed. \n",
    "3.The posts are grouped further based on the number of urls attached on the post. We identified 0 to 8. \n",
    "4.This was further plotted to understande the sense of urls used in the psot."
   ]
  },
  {
   "cell_type": "code",
   "execution_count": 154,
   "metadata": {
    "collapsed": true
   },
   "outputs": [],
   "source": [
    "urls= []\n",
    "for message in xfart.loc[:, 'message']:\n",
    "    urls.append(re.findall('(?:(?:https?|ftp):\\/\\/)?[\\w/\\-?=%.]+\\.[\\w/\\-?=%.]+', message))"
   ]
  },
  {
   "cell_type": "code",
   "execution_count": 150,
   "metadata": {
    "collapsed": true
   },
   "outputs": [],
   "source": [
    "import pandas as pd\n",
    "urls_links = pd.DataFrame({'url': urls})"
   ]
  },
  {
   "cell_type": "code",
   "execution_count": 161,
   "metadata": {
    "collapsed": true
   },
   "outputs": [],
   "source": [
    "url_ct = []\n",
    "for i in urls:\n",
    "    url_ct.append(len(i))"
   ]
  },
  {
   "cell_type": "code",
   "execution_count": 170,
   "metadata": {
    "collapsed": true
   },
   "outputs": [],
   "source": [
    "urls_links['url_ct'] = url_ct\n",
    "urls_links['post_likes'] = d['post_likes']"
   ]
  },
  {
   "cell_type": "code",
   "execution_count": 222,
   "metadata": {
    "collapsed": true
   },
   "outputs": [],
   "source": [
    "#url_based likes count over entire dataset\n",
    "url_likes = urls_links.groupby('url_ct')['post_likes'].sum()"
   ]
  },
  {
   "cell_type": "code",
   "execution_count": 220,
   "metadata": {
    "collapsed": true
   },
   "outputs": [],
   "source": [
    "# urls_links.groupby('url_ct')['url_ct'].nuniqu\n",
    "n_url  =  urls_links['url_ct'].value_counts()\n"
   ]
  },
  {
   "cell_type": "code",
   "execution_count": 229,
   "metadata": {
    "scrolled": true
   },
   "outputs": [
    {
     "data": {
      "text/html": [
       "<div>\n",
       "<style>\n",
       "    .dataframe thead tr:only-child th {\n",
       "        text-align: right;\n",
       "    }\n",
       "\n",
       "    .dataframe thead th {\n",
       "        text-align: left;\n",
       "    }\n",
       "\n",
       "    .dataframe tbody tr th {\n",
       "        vertical-align: top;\n",
       "    }\n",
       "</style>\n",
       "<table border=\"1\" class=\"dataframe\">\n",
       "  <thead>\n",
       "    <tr style=\"text-align: right;\">\n",
       "      <th></th>\n",
       "      <th>url_dis_cts</th>\n",
       "      <th>url_likes</th>\n",
       "      <th>url_rating</th>\n",
       "    </tr>\n",
       "  </thead>\n",
       "  <tbody>\n",
       "    <tr>\n",
       "      <th>0</th>\n",
       "      <td>383</td>\n",
       "      <td>1979758</td>\n",
       "      <td>5169.080940</td>\n",
       "    </tr>\n",
       "    <tr>\n",
       "      <th>1</th>\n",
       "      <td>295</td>\n",
       "      <td>1372511</td>\n",
       "      <td>4652.579661</td>\n",
       "    </tr>\n",
       "    <tr>\n",
       "      <th>2</th>\n",
       "      <td>51</td>\n",
       "      <td>171397</td>\n",
       "      <td>3360.725490</td>\n",
       "    </tr>\n",
       "    <tr>\n",
       "      <th>3</th>\n",
       "      <td>12</td>\n",
       "      <td>37419</td>\n",
       "      <td>3118.250000</td>\n",
       "    </tr>\n",
       "    <tr>\n",
       "      <th>4</th>\n",
       "      <td>5</td>\n",
       "      <td>23193</td>\n",
       "      <td>4638.600000</td>\n",
       "    </tr>\n",
       "    <tr>\n",
       "      <th>5</th>\n",
       "      <td>1</td>\n",
       "      <td>683</td>\n",
       "      <td>683.000000</td>\n",
       "    </tr>\n",
       "    <tr>\n",
       "      <th>7</th>\n",
       "      <td>1</td>\n",
       "      <td>623</td>\n",
       "      <td>623.000000</td>\n",
       "    </tr>\n",
       "    <tr>\n",
       "      <th>8</th>\n",
       "      <td>1</td>\n",
       "      <td>2469</td>\n",
       "      <td>2469.000000</td>\n",
       "    </tr>\n",
       "    <tr>\n",
       "      <th>9</th>\n",
       "      <td>1</td>\n",
       "      <td>1573</td>\n",
       "      <td>1573.000000</td>\n",
       "    </tr>\n",
       "  </tbody>\n",
       "</table>\n",
       "</div>"
      ],
      "text/plain": [
       "   url_dis_cts  url_likes   url_rating\n",
       "0          383    1979758  5169.080940\n",
       "1          295    1372511  4652.579661\n",
       "2           51     171397  3360.725490\n",
       "3           12      37419  3118.250000\n",
       "4            5      23193  4638.600000\n",
       "5            1        683   683.000000\n",
       "7            1        623   623.000000\n",
       "8            1       2469  2469.000000\n",
       "9            1       1573  1573.000000"
      ]
     },
     "execution_count": 229,
     "metadata": {},
     "output_type": "execute_result"
    }
   ],
   "source": [
    "#URL Rating\n",
    "url_comp = pd.DataFrame({\"url_likes\": url_likes, \"url_dis_cts\": n_url})\n",
    "url_comp['url_rating'] = url_comp['url_likes']/url_comp['url_dis_cts']"
   ]
  },
  {
   "cell_type": "code",
   "execution_count": 360,
   "metadata": {},
   "outputs": [
    {
     "data": {
      "image/png": "[encoded data removed]",
      "text/plain": [
       "<matplotlib.figure.Figure at 0x6bceaedf60>"
      ]
     },
     "metadata": {},
     "output_type": "display_data"
    }
   ],
   "source": [
    "plt.style.use('ggplot')\n",
    "plt.figure(figsize=(16,6))\n",
    "list1=url_comp[ \"url_rating\"].plot.bar()\n",
    "list1.set_xticklabels(list3.get_xticklabels(),rotation=30)\n",
    "plt.title(\"Comp b/w urls\")\n",
    "sb.set_context(font_scale=1)\n",
    "plt.show()"
   ]
  },
  {
   "cell_type": "markdown",
   "metadata": {},
   "source": [
    "# Ques10) Best time to post"
   ]
  },
  {
   "cell_type": "markdown",
   "metadata": {},
   "source": [
    "For this question I used xfart table which contains the created_id, post_likes, post_id, message etc. I used only two attributes\n",
    "namely created_id for time series analysis and post_likes. I striped the hour from all the timestamp. Further I clubbed all the data based on the hour it was posted and cumulative likes was taken as measure to understand the used engagement of a post or best to post.Further it is shown through plot. The 15 hour is the time with maximum cumulative likes."
   ]
  },
  {
   "cell_type": "code",
   "execution_count": 445,
   "metadata": {
    "collapsed": true
   },
   "outputs": [],
   "source": [
    "xfart[['created_id', 'time']] = xfart['created_id'].str.split('T', expand=True)"
   ]
  },
  {
   "cell_type": "code",
   "execution_count": 446,
   "metadata": {
    "collapsed": true
   },
   "outputs": [],
   "source": [
    "xfart['time'] = xfart['time'].apply(lambda x: x.split('+')[0])"
   ]
  },
  {
   "cell_type": "code",
   "execution_count": 447,
   "metadata": {},
   "outputs": [],
   "source": [
    "xfart[\"time\"] = pd.to_datetime(xfart[\"time\"])"
   ]
  },
  {
   "cell_type": "code",
   "execution_count": 448,
   "metadata": {
    "collapsed": true
   },
   "outputs": [],
   "source": [
    "xfart[\"time_of_day\"]=xfart[\"time\"].dt.hour"
   ]
  },
  {
   "cell_type": "code",
   "execution_count": 450,
   "metadata": {
    "collapsed": true
   },
   "outputs": [],
   "source": [
    "xfart['post_likes'] = d['post_likes']"
   ]
  },
  {
   "cell_type": "code",
   "execution_count": 451,
   "metadata": {},
   "outputs": [],
   "source": [
    "\n",
    "best_time = pd.DataFrame({'cum_likes':xfart.groupby('time_of_day')['post_likes'].sum()})"
   ]
  },
  {
   "cell_type": "code",
   "execution_count": 483,
   "metadata": {},
   "outputs": [
    {
     "data": {
      "image/png": "[encoded data removed]",
      "text/plain": [
       "<matplotlib.figure.Figure at 0x7868e7ce10>"
      ]
     },
     "metadata": {},
     "output_type": "display_data"
    }
   ],
   "source": [
    "import seaborn as sb\n",
    "plt.style.use('ggplot')\n",
    "plt.figure(figsize=(6,6))\n",
    "list3=best_time[\"cum_likes\"].plot.bar()\n",
    "list3.set_xticklabels(list3.get_xticklabels(),rotation=30)\n",
    "plt.title(\"Best Time to Post\")\n",
    "sb.set_context(font_scale=1)\n",
    "plt.show()"
   ]
  },
  {
   "cell_type": "markdown",
   "metadata": {},
   "source": [
    "# Ques9 Should I follow somebody back ?"
   ]
  },
  {
   "cell_type": "markdown",
   "metadata": {},
   "source": [
    "For this question, \n",
    "1.I have taken fan count as parameter for artists to follow some other artists.\n",
    "2.The fan counts are binned and the artist are clubbed together based on it.\n",
    "3.The Gp refers to Gp assigned."
   ]
  },
  {
   "cell_type": "code",
   "execution_count": 453,
   "metadata": {
    "collapsed": true
   },
   "outputs": [],
   "source": [
    "import numpy as np\n",
    "bins1=[]\n",
    "bins1.append(pd.cut(fan_pg_ct.fn_ct, np.arange(0, max(fan_pg_ct.fn_ct), max(fan_pg_ct.fn_ct)/10), labels= ['GP1', 'GP2', 'GP3', 'GP4', 'GP5', 'GP6', 'GP7', 'GP8', 'GP9']))"
   ]
  },
  {
   "cell_type": "code",
   "execution_count": 454,
   "metadata": {},
   "outputs": [],
   "source": [
    "fan_pg_ct['fan_index']= bins1[0]"
   ]
  },
  {
   "cell_type": "code",
   "execution_count": 457,
   "metadata": {
    "scrolled": true
   },
   "outputs": [
    {
     "data": {
      "text/plain": [
       "fan_index  artist_names      \n",
       "GP1        Bob Dylan             1\n",
       "           Bob Marley            1\n",
       "           Bruce Springsteen     1\n",
       "           Carole King           1\n",
       "           Chuck Berry           1\n",
       "           David Bowie           1\n",
       "           Eagles                1\n",
       "           Fleetwood Mac         1\n",
       "           James Brown           1\n",
       "           John Coltrane         1\n",
       "           Joni Mitchell         1\n",
       "           Love                  1\n",
       "           Muddy Waters          1\n",
       "           Patti Smith           1\n",
       "           Ramones               1\n",
       "           Robert Johnson        1\n",
       "           Sex Pistols           1\n",
       "           Stevie Wonder         1\n",
       "           The Band              1\n",
       "           Van Morrison          1\n",
       "GP2        Elvis Presley         1\n",
       "           Led Zeppelin          1\n",
       "GP3        John Lennon           1\n",
       "           The Doors             1\n",
       "           The Rolling Stones    1\n",
       "           U2                    1\n",
       "GP4        Nirvana               1\n",
       "           Pink Floyd            1\n",
       "GP6        Beatles               1\n",
       "Name: artist_names, dtype: int64"
      ]
     },
     "execution_count": 457,
     "metadata": {},
     "output_type": "execute_result"
    }
   ],
   "source": [
    "fan_pg_ct.groupby(['fan_index', 'artist_names'])['artist_names'].count()"
   ]
  },
  {
   "cell_type": "markdown",
   "metadata": {},
   "source": [
    "# Ques8)\tWhat\tkeywords/\thashtags\tshould\tI\tadd\tto\tmy\tpost?"
   ]
  },
  {
   "cell_type": "code",
   "execution_count": 323,
   "metadata": {},
   "outputs": [],
   "source": [
    "jazz= {0:'bebop', 1: 'blues,boogie',2: 'boogie-woogie', 3: 'bop,jazz', 4: 'dixieland'}\n",
    "Rock={0:'folk', 1:'fusion',2:'hard rock',3:'harmony',4:'heavymetal'}\n",
    "Pop= {0:'electropop', 1:'pop',2:'synthpop',3:'spain',4:'indie'}\n",
    "Blues= {0:'zydeco', 1:'cajun',2:'bluesrock',3:'guitar',4:'classicrock'}\n",
    "Reggae= {0:'reggaeton', 1:'reggae fusion',2:'samba reggae',3:'ragga',4:'dancehall'}\n",
    "World= {0:'Worldbeat', 1:'ethno jazz',2:'Indigenous music',3:'New-age music,',4:'Post-punk',5:'',6:''}\n",
    "Country= {0:'progressive country', 1:'Western swing',2:'close harmony',3:'bro-country',4:'Bakersfield sound'}\n",
    "Funk = {0:'Deep funk', 1:'jazz-funk',2:'funk rock',3:'psychedelic funk',4:'G-funk'}\n",
    "Soul= {0:'African-American culture', 1:'Musical improvisation',2:'Popular music',3:'Rhythm and blues',4:'doo-wop'}\n",
    "Folk= {0:'indiefolk', 1:'acoustic',2:'Americana',3:'alternative',4:'psychedelic'}\n",
    "Electronic= {0:'techno', 1:'electronica',2:'electro',3:'idm',4:'dubstep'}"
   ]
  },
  {
   "cell_type": "code",
   "execution_count": 325,
   "metadata": {},
   "outputs": [],
   "source": [
    "jazz1 =list(jazz.values())\n",
    "Rock1 = list(Rock.values())\n",
    "Pop1 = list(Pop.values())\n",
    "Blues1 = list(Blues.values())\n",
    "Reggae1 = list(Reggae.values())\n",
    "World1= list(World.values())\n",
    "Country1 = list(Country.values())\n",
    "Funk1= list(Funk.values())\n",
    "Soul1 = list(Soul.values())\n",
    "Folk1= list(Folk.values())\n",
    "Electronic1 = list(Electronic.values())"
   ]
  },
  {
   "cell_type": "code",
   "execution_count": 435,
   "metadata": {},
   "outputs": [],
   "source": [
    "from collections import Counter\n",
    "\n",
    "def count_many(jazz1, xfart[\"message\"]):\n",
    "    count = Counter(xfart[\"message\"].split())\n",
    "    return {key: count[key] for key in count if key in jazz1}"
   ]
  },
  {
   "cell_type": "markdown",
   "metadata": {},
   "source": [
    "# Ques6)\tWho\tshould\tI\tbe\tfollowing?"
   ]
  },
  {
   "cell_type": "markdown",
   "metadata": {},
   "source": [
    "Explaination:\n",
    "1.The fan counts for the artist are arranged in descending order. \n",
    "2.The artist will follow the artist with maximum fan count as it will enhance the visibility with larger audiences."
   ]
  },
  {
   "cell_type": "code",
   "execution_count": 503,
   "metadata": {
    "collapsed": true
   },
   "outputs": [],
   "source": [
    "fan_pg_ct1 = fan_pg_ct.sort_values(['fn_ct'], ascending=False)"
   ]
  },
  {
   "cell_type": "code",
   "execution_count": 504,
   "metadata": {},
   "outputs": [],
   "source": [
    "fan_pg_ct1['artist_names'] = artist_names['artist_names']"
   ]
  },
  {
   "cell_type": "code",
   "execution_count": 505,
   "metadata": {
    "collapsed": true
   },
   "outputs": [],
   "source": [
    "fan_pg_ct.artist_to_follow = np.nan"
   ]
  },
  {
   "cell_type": "code",
   "execution_count": 506,
   "metadata": {},
   "outputs": [],
   "source": [
    "temp =[]\n",
    "xx=[]\n",
    "y=1\n",
    "for i in range(len(fan_pg_ct)):\n",
    "        if(fan_pg_ct1.fn_ct[i]<fan_pg_ct1.fn_ct[0: i].max()):\n",
    "            xx.append(fan_pg_ct1.fn_ct[0:i].max())\n",
    "            y=y+1"
   ]
  },
  {
   "cell_type": "code",
   "execution_count": 513,
   "metadata": {
    "collapsed": true
   },
   "outputs": [],
   "source": [
    "del fan_pg_ct1[\"fan_index\"]"
   ]
  },
  {
   "cell_type": "code",
   "execution_count": 516,
   "metadata": {},
   "outputs": [
    {
     "data": {
      "text/html": [
       "<div>\n",
       "<style>\n",
       "    .dataframe thead tr:only-child th {\n",
       "        text-align: right;\n",
       "    }\n",
       "\n",
       "    .dataframe thead th {\n",
       "        text-align: left;\n",
       "    }\n",
       "\n",
       "    .dataframe tbody tr th {\n",
       "        vertical-align: top;\n",
       "    }\n",
       "</style>\n",
       "<table border=\"1\" class=\"dataframe\">\n",
       "  <thead>\n",
       "    <tr style=\"text-align: right;\">\n",
       "      <th></th>\n",
       "      <th>Unnamed: 0</th>\n",
       "      <th>fan_pg_fbid</th>\n",
       "      <th>fn_ct</th>\n",
       "      <th>artist_names</th>\n",
       "      <th>artist_to_follow</th>\n",
       "    </tr>\n",
       "  </thead>\n",
       "  <tbody>\n",
       "    <tr>\n",
       "      <th>7</th>\n",
       "      <td>7</td>\n",
       "      <td>1.969168e+10</td>\n",
       "      <td>73994488</td>\n",
       "      <td>Michael Jackson</td>\n",
       "      <td>NaN</td>\n",
       "    </tr>\n",
       "    <tr>\n",
       "      <th>0</th>\n",
       "      <td>0</td>\n",
       "      <td>6.911633e+10</td>\n",
       "      <td>41424634</td>\n",
       "      <td>Beatles</td>\n",
       "      <td>GP6</td>\n",
       "    </tr>\n",
       "    <tr>\n",
       "      <th>26</th>\n",
       "      <td>26</td>\n",
       "      <td>5.660597e+09</td>\n",
       "      <td>29006435</td>\n",
       "      <td>Pink Floyd</td>\n",
       "      <td>GP4</td>\n",
       "    </tr>\n",
       "    <tr>\n",
       "      <th>4</th>\n",
       "      <td>4</td>\n",
       "      <td>4.943632e+10</td>\n",
       "      <td>27474321</td>\n",
       "      <td>Nirvana</td>\n",
       "      <td>GP4</td>\n",
       "    </tr>\n",
       "    <tr>\n",
       "      <th>2</th>\n",
       "      <td>2</td>\n",
       "      <td>8.305888e+09</td>\n",
       "      <td>19842266</td>\n",
       "      <td>The Rolling Stones</td>\n",
       "      <td>GP3</td>\n",
       "    </tr>\n",
       "    <tr>\n",
       "      <th>14</th>\n",
       "      <td>14</td>\n",
       "      <td>5.678047e+09</td>\n",
       "      <td>17386691</td>\n",
       "      <td>U2</td>\n",
       "      <td>GP3</td>\n",
       "    </tr>\n",
       "    <tr>\n",
       "      <th>25</th>\n",
       "      <td>25</td>\n",
       "      <td>8.606723e+09</td>\n",
       "      <td>16742373</td>\n",
       "      <td>The Doors</td>\n",
       "      <td>GP3</td>\n",
       "    </tr>\n",
       "    <tr>\n",
       "      <th>10</th>\n",
       "      <td>10</td>\n",
       "      <td>1.353890e+14</td>\n",
       "      <td>15456066</td>\n",
       "      <td>John Lennon</td>\n",
       "      <td>GP3</td>\n",
       "    </tr>\n",
       "    <tr>\n",
       "      <th>15</th>\n",
       "      <td>15</td>\n",
       "      <td>1.315720e+14</td>\n",
       "      <td>13584091</td>\n",
       "      <td>Led Zeppelin</td>\n",
       "      <td>GP2</td>\n",
       "    </tr>\n",
       "    <tr>\n",
       "      <th>3</th>\n",
       "      <td>3</td>\n",
       "      <td>7.284979e+09</td>\n",
       "      <td>13375529</td>\n",
       "      <td>Elvis Presley</td>\n",
       "      <td>GP2</td>\n",
       "    </tr>\n",
       "    <tr>\n",
       "      <th>19</th>\n",
       "      <td>19</td>\n",
       "      <td>3.089950e+10</td>\n",
       "      <td>6926184</td>\n",
       "      <td>David Bowie</td>\n",
       "      <td>GP1</td>\n",
       "    </tr>\n",
       "    <tr>\n",
       "      <th>1</th>\n",
       "      <td>1</td>\n",
       "      <td>1.195533e+10</td>\n",
       "      <td>6767946</td>\n",
       "      <td>Bob Dylan</td>\n",
       "      <td>GP1</td>\n",
       "    </tr>\n",
       "    <tr>\n",
       "      <th>11</th>\n",
       "      <td>11</td>\n",
       "      <td>1.015585e+10</td>\n",
       "      <td>6179553</td>\n",
       "      <td>Stevie Wonder</td>\n",
       "      <td>GP1</td>\n",
       "    </tr>\n",
       "    <tr>\n",
       "      <th>17</th>\n",
       "      <td>17</td>\n",
       "      <td>1.278902e+10</td>\n",
       "      <td>5749085</td>\n",
       "      <td>Ramones</td>\n",
       "      <td>GP1</td>\n",
       "    </tr>\n",
       "    <tr>\n",
       "      <th>5</th>\n",
       "      <td>5</td>\n",
       "      <td>7.401700e+09</td>\n",
       "      <td>5486562</td>\n",
       "      <td>Bruce Springsteen</td>\n",
       "      <td>GP1</td>\n",
       "    </tr>\n",
       "    <tr>\n",
       "      <th>13</th>\n",
       "      <td>13</td>\n",
       "      <td>8.340954e+09</td>\n",
       "      <td>4840314</td>\n",
       "      <td>Fleetwood Mac</td>\n",
       "      <td>GP1</td>\n",
       "    </tr>\n",
       "    <tr>\n",
       "      <th>23</th>\n",
       "      <td>23</td>\n",
       "      <td>5.039419e+10</td>\n",
       "      <td>2581268</td>\n",
       "      <td>Love</td>\n",
       "      <td>GP1</td>\n",
       "    </tr>\n",
       "    <tr>\n",
       "      <th>24</th>\n",
       "      <td>24</td>\n",
       "      <td>3.279400e+14</td>\n",
       "      <td>2523781</td>\n",
       "      <td>Sex Pistols</td>\n",
       "      <td>GP1</td>\n",
       "    </tr>\n",
       "    <tr>\n",
       "      <th>12</th>\n",
       "      <td>12</td>\n",
       "      <td>1.682170e+14</td>\n",
       "      <td>2171713</td>\n",
       "      <td>James Brown</td>\n",
       "      <td>GP1</td>\n",
       "    </tr>\n",
       "    <tr>\n",
       "      <th>8</th>\n",
       "      <td>8</td>\n",
       "      <td>1.820120e+11</td>\n",
       "      <td>2166941</td>\n",
       "      <td>Chuck Berry</td>\n",
       "      <td>GP1</td>\n",
       "    </tr>\n",
       "    <tr>\n",
       "      <th>6</th>\n",
       "      <td>6</td>\n",
       "      <td>2.438350e+14</td>\n",
       "      <td>1277772</td>\n",
       "      <td>Van Morrison</td>\n",
       "      <td>GP1</td>\n",
       "    </tr>\n",
       "    <tr>\n",
       "      <th>29</th>\n",
       "      <td>29</td>\n",
       "      <td>2.594160e+14</td>\n",
       "      <td>1261651</td>\n",
       "      <td>John Coltrane</td>\n",
       "      <td>GP1</td>\n",
       "    </tr>\n",
       "    <tr>\n",
       "      <th>20</th>\n",
       "      <td>20</td>\n",
       "      <td>1.127240e+11</td>\n",
       "      <td>1228912</td>\n",
       "      <td>Carole King</td>\n",
       "      <td>GP1</td>\n",
       "    </tr>\n",
       "    <tr>\n",
       "      <th>22</th>\n",
       "      <td>22</td>\n",
       "      <td>1.589100e+15</td>\n",
       "      <td>562099</td>\n",
       "      <td>Muddy Waters</td>\n",
       "      <td>GP1</td>\n",
       "    </tr>\n",
       "    <tr>\n",
       "      <th>27</th>\n",
       "      <td>27</td>\n",
       "      <td>1.874500e+15</td>\n",
       "      <td>448044</td>\n",
       "      <td>Patti Smith</td>\n",
       "      <td>GP1</td>\n",
       "    </tr>\n",
       "    <tr>\n",
       "      <th>16</th>\n",
       "      <td>16</td>\n",
       "      <td>3.119830e+11</td>\n",
       "      <td>356051</td>\n",
       "      <td>Joni Mitchell</td>\n",
       "      <td>GP1</td>\n",
       "    </tr>\n",
       "    <tr>\n",
       "      <th>21</th>\n",
       "      <td>21</td>\n",
       "      <td>3.886239e+10</td>\n",
       "      <td>290972</td>\n",
       "      <td>Eagles</td>\n",
       "      <td>GP1</td>\n",
       "    </tr>\n",
       "    <tr>\n",
       "      <th>9</th>\n",
       "      <td>9</td>\n",
       "      <td>2.929320e+11</td>\n",
       "      <td>89702</td>\n",
       "      <td>Robert Johnson</td>\n",
       "      <td>GP1</td>\n",
       "    </tr>\n",
       "    <tr>\n",
       "      <th>18</th>\n",
       "      <td>18</td>\n",
       "      <td>4.097990e+14</td>\n",
       "      <td>13218</td>\n",
       "      <td>The Band</td>\n",
       "      <td>GP1</td>\n",
       "    </tr>\n",
       "    <tr>\n",
       "      <th>28</th>\n",
       "      <td>28</td>\n",
       "      <td>2.384870e+14</td>\n",
       "      <td>2088</td>\n",
       "      <td>Bob Marley</td>\n",
       "      <td>GP1</td>\n",
       "    </tr>\n",
       "  </tbody>\n",
       "</table>\n",
       "</div>"
      ],
      "text/plain": [
       "    Unnamed: 0   fan_pg_fbid     fn_ct        artist_names artist_to_follow\n",
       "7            7  1.969168e+10  73994488     Michael Jackson              NaN\n",
       "0            0  6.911633e+10  41424634             Beatles              GP6\n",
       "26          26  5.660597e+09  29006435          Pink Floyd              GP4\n",
       "4            4  4.943632e+10  27474321             Nirvana              GP4\n",
       "2            2  8.305888e+09  19842266  The Rolling Stones              GP3\n",
       "14          14  5.678047e+09  17386691                  U2              GP3\n",
       "25          25  8.606723e+09  16742373           The Doors              GP3\n",
       "10          10  1.353890e+14  15456066         John Lennon              GP3\n",
       "15          15  1.315720e+14  13584091        Led Zeppelin              GP2\n",
       "3            3  7.284979e+09  13375529       Elvis Presley              GP2\n",
       "19          19  3.089950e+10   6926184         David Bowie              GP1\n",
       "1            1  1.195533e+10   6767946           Bob Dylan              GP1\n",
       "11          11  1.015585e+10   6179553       Stevie Wonder              GP1\n",
       "17          17  1.278902e+10   5749085             Ramones              GP1\n",
       "5            5  7.401700e+09   5486562   Bruce Springsteen              GP1\n",
       "13          13  8.340954e+09   4840314       Fleetwood Mac              GP1\n",
       "23          23  5.039419e+10   2581268                Love              GP1\n",
       "24          24  3.279400e+14   2523781         Sex Pistols              GP1\n",
       "12          12  1.682170e+14   2171713         James Brown              GP1\n",
       "8            8  1.820120e+11   2166941         Chuck Berry              GP1\n",
       "6            6  2.438350e+14   1277772        Van Morrison              GP1\n",
       "29          29  2.594160e+14   1261651       John Coltrane              GP1\n",
       "20          20  1.127240e+11   1228912         Carole King              GP1\n",
       "22          22  1.589100e+15    562099        Muddy Waters              GP1\n",
       "27          27  1.874500e+15    448044         Patti Smith              GP1\n",
       "16          16  3.119830e+11    356051       Joni Mitchell              GP1\n",
       "21          21  3.886239e+10    290972              Eagles              GP1\n",
       "9            9  2.929320e+11     89702      Robert Johnson              GP1\n",
       "18          18  4.097990e+14     13218            The Band              GP1\n",
       "28          28  2.384870e+14      2088         Bob Marley               GP1"
      ]
     },
     "execution_count": 516,
     "metadata": {},
     "output_type": "execute_result"
    }
   ],
   "source": [
    "fan_pg_ct1"
   ]
  },
  {
   "cell_type": "markdown",
   "metadata": {
    "collapsed": true
   },
   "source": [
    "# Ques5).\tWhat\tusers\tpost like\tme?"
   ]
  },
  {
   "cell_type": "markdown",
   "metadata": {},
   "source": [
    "Explaination:\n",
    "1.For this question the rel eng index i.e the number of shares per fan counts of that page ,is being takenas paramter.\n",
    "2.The posts similarity are seen with the view of engagement of fans with the post.\n",
    "3.The mean of rel_engagement is calculated.\n",
    "3.The mean of rel_eng are bined to see the similarity of posts."
   ]
  },
  {
   "cell_type": "code",
   "execution_count": 29,
   "metadata": {},
   "outputs": [],
   "source": [
    "# artist_infl\n",
    "jj= []\n",
    "for i in artist_names['artist_names']:\n",
    "    flag=0\n",
    "    for j in range(len(d)):\n",
    "        if(flag<25):\n",
    "            jj.append(i)\n",
    "            flag=flag+1"
   ]
  },
  {
   "cell_type": "code",
   "execution_count": 32,
   "metadata": {},
   "outputs": [],
   "source": [
    "artist_infl['artist_names'] = jj"
   ]
  },
  {
   "cell_type": "code",
   "execution_count": 43,
   "metadata": {},
   "outputs": [],
   "source": [
    "mean_rel = list(artist_infl.groupby('artist_names')['rel_eng'].mean()*100)"
   ]
  },
  {
   "cell_type": "code",
   "execution_count": 44,
   "metadata": {},
   "outputs": [],
   "source": [
    "artist_names['mean_rel'] = mean_rel"
   ]
  },
  {
   "cell_type": "code",
   "execution_count": 91,
   "metadata": {
    "scrolled": true
   },
   "outputs": [],
   "source": [
    "df = artist_names.sort_values(['mean_rel'], ascending=False)"
   ]
  },
  {
   "cell_type": "code",
   "execution_count": 102,
   "metadata": {},
   "outputs": [
    {
     "data": {
      "text/plain": [
       "<matplotlib.axes._subplots.AxesSubplot at 0x786968f940>"
      ]
     },
     "execution_count": 102,
     "metadata": {},
     "output_type": "execute_result"
    },
    {
     "data": {
      "image/png": "[encoded data removed]",
      "text/plain": [
       "<matplotlib.figure.Figure at 0x7869b18048>"
      ]
     },
     "metadata": {},
     "output_type": "display_data"
    }
   ],
   "source": [
    "bins = [0.0,  0.039272,  0.078544,  0.117816,  0.157088,  0.19636 ,0.24]\n",
    "df1 = df.groupby(pd.cut(df['mean_rel'], bins=bins, labels= )).mean_rel.count()\n",
    "df1.plot(kind='bar')"
   ]
  },
  {
   "cell_type": "markdown",
   "metadata": {},
   "source": [
    "# Ques 4.\tWhat\tposts are\tlike\tmine?"
   ]
  },
  {
   "cell_type": "markdown",
   "metadata": {},
   "source": [
    "Explaination: For this question:\n",
    "1.The post ratings are by weighted with respect to likes, comments, shares attributes of posts. \n",
    "2.Weights: Likes: 0.2 (as it is a soft paramter), comments 0.3 (better eng index than likes), shares: 0.5(highest as it demonstrates likability of the post) ) \n",
    "3.Post Ratings are binned together and artists are clubbed to show the similarity of posts within artist."
   ]
  },
  {
   "cell_type": "code",
   "execution_count": 306,
   "metadata": {
    "scrolled": true
   },
   "outputs": [],
   "source": [
    "d['post_ratings'] = d.post_likes*0.2 + d.post_comments*0.3 + d.post_shares*0.5\n"
   ]
  },
  {
   "cell_type": "code",
   "execution_count": 248,
   "metadata": {},
   "outputs": [],
   "source": [
    "gg =[][]\n",
    "for i in artist_names.artist_names:\n",
    "    flag=0\n",
    "    for j in range(len(artist_names)):\n",
    "        if(flag<25):\n",
    "            gg.append(i)\n",
    "            flag= flag+1"
   ]
  },
  {
   "cell_type": "code",
   "execution_count": 258,
   "metadata": {},
   "outputs": [],
   "source": [
    "tt=[]\n",
    "for i in range(0,25):\n",
    "    tt.append(d.loc[d['artist_names']== artist_names['artist_names'][i], \"post_ratings\"])"
   ]
  },
  {
   "cell_type": "code",
   "execution_count": 270,
   "metadata": {},
   "outputs": [],
   "source": [
    "bins =[]\n",
    "bins.append(pd.cut(d.post_ratings, np.arange(0,max(d.post_ratings), max(d.post_ratings)/750)))"
   ]
  },
  {
   "cell_type": "code",
   "execution_count": 280,
   "metadata": {},
   "outputs": [],
   "source": [
    "d['ratings_bins'] = bins[0]"
   ]
  },
  {
   "cell_type": "code",
   "execution_count": 305,
   "metadata": {
    "scrolled": true
   },
   "outputs": [
    {
     "data": {
      "text/plain": [
       "ratings_bins            artist_names     \n",
       "(0.0, 62.124]           Bob Marley           25\n",
       "                        Carole King           2\n",
       "                        Chuck Berry           3\n",
       "                        Eagles                5\n",
       "                        John Coltrane         1\n",
       "                        Joni Mitchell         1\n",
       "                        Love                 23\n",
       "                        Muddy Waters         15\n",
       "                        Patti Smith           1\n",
       "                        Robert Johnson       25\n",
       "                        Sex Pistols           9\n",
       "                        The Band             20\n",
       "                        The Doors             4\n",
       "                        Van Morrison          4\n",
       "(62.124, 124.247]       Beatles               1\n",
       "                        Bob Dylan             1\n",
       "                        Bruce Springsteen     1\n",
       "                        Carole King           3\n",
       "                        Chuck Berry           6\n",
       "                        Eagles                5\n",
       "                        Elvis Presley         1\n",
       "                        Fleetwood Mac         3\n",
       "                        John Coltrane         5\n",
       "                        Joni Mitchell         3\n",
       "                        Love                  1\n",
       "                        Muddy Waters          6\n",
       "                        Patti Smith           4\n",
       "                        Sex Pistols           5\n",
       "                        The Band              4\n",
       "                        The Doors             3\n",
       "                                             ..\n",
       "(5839.618, 5901.742]    Michael Jackson       1\n",
       "                        Ramones               1\n",
       "(5901.742, 5963.866]    John Lennon           1\n",
       "                        Led Zeppelin          1\n",
       "(6088.113, 6150.236]    Led Zeppelin          1\n",
       "(6212.36, 6274.484]     Nirvana               1\n",
       "(6647.225, 6709.349]    Elvis Presley         1\n",
       "(7019.967, 7082.09]     Bruce Springsteen     1\n",
       "(7268.461, 7330.585]    U2                    1\n",
       "(7330.585, 7392.708]    Elvis Presley         1\n",
       "(7516.956, 7579.079]    U2                    1\n",
       "(8138.192, 8200.315]    Michael Jackson       1\n",
       "(8510.933, 8573.057]    James Brown           1\n",
       "(8573.057, 8635.18]     Fleetwood Mac         1\n",
       "(8697.304, 8759.428]    Led Zeppelin          1\n",
       "(9380.664, 9442.787]    Ramones               1\n",
       "(9567.034, 9629.158]    Pink Floyd            1\n",
       "(9815.529, 9877.652]    Stevie Wonder         1\n",
       "(10001.9, 10064.023]    Bruce Springsteen     1\n",
       "(10312.518, 10374.641]  Ramones               1\n",
       "(10995.877, 11058.001]  Pink Floyd            1\n",
       "(11368.619, 11430.742]  Michael Jackson       1\n",
       "(12983.832, 13045.956]  U2                    1\n",
       "(13232.327, 13294.45]   Pink Floyd            1\n",
       "(13542.945, 13605.068]  Led Zeppelin          1\n",
       "(15096.035, 15158.158]  U2                    1\n",
       "(17891.597, 17953.72]   Led Zeppelin          1\n",
       "(26961.642, 27023.766]  U2                    1\n",
       "(27023.766, 27085.89]   Beatles               1\n",
       "(29695.081, 29757.204]  Beatles               1\n",
       "Name: artist_names, Length: 413, dtype: int64"
      ]
     },
     "execution_count": 305,
     "metadata": {},
     "output_type": "execute_result"
    }
   ],
   "source": [
    "d.groupby(['ratings_bins', 'artist_names'])['artist_names'].count()"
   ]
  },
  {
   "cell_type": "markdown",
   "metadata": {},
   "source": [
    "# Ques1\tWhat\tare\tpeople\tsaying\tabout\tme\t(somebody)?\t\n"
   ]
  },
  {
   "cell_type": "markdown",
   "metadata": {},
   "source": [
    "Explaination:\n",
    "1.I have taken a quantitative approach for guess the people saying about me\n",
    "2.For this question, the comments are taken as parameter.\n",
    "3.Further cumulative sum of comments are plotted for each artist."
   ]
  },
  {
   "cell_type": "code",
   "execution_count": 123,
   "metadata": {},
   "outputs": [],
   "source": [
    "ff = d.groupby('page_id').agg({'post_comments':'sum'}).reset_index().rename(columns={'post_comments':'aggr_comments'})"
   ]
  },
  {
   "cell_type": "code",
   "execution_count": 131,
   "metadata": {
    "scrolled": true
   },
   "outputs": [
    {
     "data": {
      "text/plain": [
       "<matplotlib.axes._subplots.AxesSubplot at 0x7869d5dcf8>"
      ]
     },
     "execution_count": 131,
     "metadata": {},
     "output_type": "execute_result"
    },
    {
     "data": {
      "image/png": "[encoded data removed]",
      "text/plain": [
       "<matplotlib.figure.Figure at 0x7869dc6e80>"
      ]
     },
     "metadata": {},
     "output_type": "display_data"
    }
   ],
   "source": [
    "columns = ['aggr_comments', 'page_id']\n",
    "ff = ff[columns]\n",
    "ff.index=ff[\"page_id\"]\n",
    "ff.plot(kind='bar')"
   ]
  }
 ],
 "metadata": {
  "kernelspec": {
   "display_name": "Python 3",
   "language": "python",
   "name": "python3"
  },
  "language_info": {
   "codemirror_mode": {
    "name": "ipython",
    "version": 3
   },
   "file_extension": ".py",
   "mimetype": "text/x-python",
   "name": "python",
   "nbconvert_exporter": "python",
   "pygments_lexer": "ipython3",
   "version": "3.6.9"
  }
 },
 "nbformat": 4,
 "nbformat_minor": 2
}
