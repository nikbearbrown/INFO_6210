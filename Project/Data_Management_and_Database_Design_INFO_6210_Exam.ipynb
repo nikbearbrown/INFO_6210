{
 "cells": [
  {
   "cell_type": "markdown",
   "metadata": {},
   "source": [
    "# Data Management and Database Design INFO 6210 Exam"
   ]
  },
  {
   "cell_type": "markdown",
   "metadata": {},
   "source": [
    "## Take Home Exam Part 1 (SQL) -  (100 Points)"
   ]
  },
  {
   "cell_type": "markdown",
   "metadata": {},
   "source": [
    "**Take Home Exam Part 1 (SQL) - 100 points**\n",
    "\n",
    "_Due April 21, 2018_  \n",
    "\n",
    "All questions are worth 10.0/3  (3.3333) points except No. 28 which is worth 10 points.    \n",
    "\n",
    "You will be using your project database.    \n",
    "\n",
    "Caveat: Everybody needs to write their own SQL.   \n",
    " \n",
    "\n",
    "**Write SQL statements to do the following on  project database:**  \n",
    "\n",
    "1. Select columns   \n",
    "\n",
    "2. Filter rows  \n",
    "\n",
    "3. Sort your query   \n",
    "\n",
    "4. Group by an attribute  \n",
    "\n",
    "5. Calculate an aggregate function on an attribute of the group.  \n",
    "\n",
    "6. Use DISTINCT keyword will make it so it only returns one instance of each attribute.   \n",
    "\n",
    "7. Create a column that is calculated from other columns.   \n",
    "\n",
    "8. Count all of the null values in a nullable field.   \n",
    "\n",
    "9.  In a text field count all of rows in the columns that contain the letter 'a'.   \n",
    "\n",
    "10. Subselect columns using a subquery.  \n",
    "\n",
    "11. Computationally what is the most expensive operation in the relational data model?  \n",
    "\n",
    "12. Write a function to calculate something relevant to your project.  Show that it works.    \n",
    "\n",
    "13.  When two tables are joined in a relational database what is the resulting data structure?   \n",
    "\n",
    "14. Select and filter some data from a table created by a join.  \n",
    "\n",
    "15.  Why not put all the data in one big table and avoid all of these joins?    \n",
    "\n",
    "16.  Why create views?   \n",
    "\n",
    "17. Select and filter some data from a table created by a view.   \n",
    "\n",
    "18.  Why create temporary tables?   \n",
    "\n",
    "19. Select and filter some data from a table created by a temporary table.   \n",
    "20. Insert some data in to a table.   \n",
    "\n",
    "21. Update some data in a table.   \n",
    "\n",
    "22. Delete some data a table.   \n",
    "\n",
    "23. Create a  stored routine that does something useful for your project.   \n",
    "24. Create a  stored procedures that does something useful for your project.    \n",
    "\n",
    "25.  Create a index on a non-key attribute. Does it help?   \n",
    "\n",
    "26. Create a trigger.   \n",
    "\n",
    "27. Create a transaction.   \n",
    "\n",
    "28.  Explain to an eight year old (i.e. your professor) what are the first  three Normal Forms. (10 points)    "
   ]
  },
  {
   "cell_type": "markdown",
   "metadata": {},
   "source": [
    "## Take Home Exam Part 2 (NoSQL) - 100 points"
   ]
  },
  {
   "attachments": {},
   "cell_type": "markdown",
   "metadata": {},
   "source": [
    "**Take Home Exam Part 2 (NoSQL) - 100 points**\n",
    "\n",
    "_Due April 21, 2018_  \n",
    "\n",
    "You will be using your two project databases.    \n",
    "\n",
    "Caveat: The project group can work together on Part 2 but must each upload a note indicating who submitted for the group.  \n",
    "\n",
    "**NOTE Only 4 of the 12 questions for the project need to be answered per person**  \n",
    "\n",
    "Only 4 of the 12 questions for the project need to be answered per person.  That is, if there is one person then it's your choice of 4 of the 12.  If there are two people then it's your choice of 8 of the 12. If there are three people then all 12. \n",
    "\n",
    "_Reminder these are the 12 project questions_\n",
    "\n",
    "i. What are people saying about me (somebody)?   \n",
    "ii. How viral are my posts?   \n",
    "iii. How much influence to my posts have?   \n",
    "iv. What posts are like mine?   \n",
    "v. What users post like me?  \n",
    "vi. Who should I be following?   \n",
    "vii. What topics are trending in my domain?   \n",
    "viii. What keywords/ hashtags should I add to my post?    \n",
    "ix. Should I follow somebody back?   \n",
    "x. What is the best time to post?   \n",
    "xi. Should I add and picture or url to my post?   \n",
    "xiii. What’s my reach?   \n",
    "\n",
    "**Write a blog in a jupyter notebook explaining how you converted your SQL database into its NoSQL equivalent**\n",
    "\n",
    "Grading for the first two sections will be rated on a one to five star scale by the Professor and at least two TAs.  \n",
    "\n",
    "**Technical explanation (one to five star scale) (40 Points)**\n",
    "\n",
    "_How well are the technical details explained?  Could a NEU Master's student in the College of Engineering replicate your databases based on your write up?_\n",
    "\n",
    "\n",
    "**Design explanation (one to five star scale) (40 Points)**\n",
    "\n",
    "_How well are the design decisions explained?  Could a NEU Master's student in the College of Engineering understand your design choices?_\n",
    "\n",
    "For the above; the average scores for the graders will be used to scale the points. For example, if the average score is 4 of 5 stars (80%) on the _Technical explanation_ (40 Points)  then the score would be 0.8 times 40 or 32 points.  \n",
    "\n",
    "**Code and data (10 Points)**\n",
    "\n",
    "Is there enough well documented code and data to replicate the work? Not all of the data is needed. Just a sample, that allows someone to build it.  \n",
    "\n",
    "** The license (10 Points)**\n",
    "\n",
    "Your licensing of the code and words MUST be explicit.  The license is your choice but it MUST be explicit.\n",
    "\n",
    "The [MIT License](https://opensource.org/licenses/MIT) is recommended for the code.  \n",
    "\n",
    "The [Creative Commons Attribution 3.0](https://creativecommons.org/licenses/by/3.0/us/) is recommended for the writing.   \n",
    "  "
   ]
  },
  {
   "cell_type": "markdown",
   "metadata": {},
   "source": [
    "Update March 31, 2018"
   ]
  }
 ],
 "metadata": {
  "kernelspec": {
   "display_name": "Python 3",
   "language": "python",
   "name": "python3"
  },
  "language_info": {
   "codemirror_mode": {
    "name": "ipython",
    "version": 3
   },
   "file_extension": ".py",
   "mimetype": "text/x-python",
   "name": "python",
   "nbconvert_exporter": "python",
   "pygments_lexer": "ipython3",
   "version": "3.6.1"
  }
 },
 "nbformat": 4,
 "nbformat_minor": 2
}
