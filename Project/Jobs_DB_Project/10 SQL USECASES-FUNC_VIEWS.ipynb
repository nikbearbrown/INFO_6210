{
 "cells": [
  {
   "cell_type": "markdown",
   "metadata": {},
   "source": [
    "<div style=\"text-align: right\">INFO 6210 Data Management and Database Design, Final Project</div>\n",
    "<div style=\"text-align: right\">Jobs DB - Group : db.geeks </div>\n",
    "<div style=\"text-align: right\">Sajida Mohammad, Reddem Pavan Kumar Reddy </div>\n",
    "<div style=\"text-align: right\">{mohammad.sa, pavankumarreddy.r } @husky.neu.edu</div>\n",
    "\n",
    "### JOBS DB Project\n",
    "### Finance domain\n",
    "#### Author: Sajida Mohammad, Pavan Kumar Reddy Reddem"
   ]
  },
  {
   "cell_type": "markdown",
   "metadata": {},
   "source": [
    "## Usecases"
   ]
  },
  {
   "cell_type": "markdown",
   "metadata": {},
   "source": [
    "#### UseCase 1 - Select company with most job postings\n",
    "\n",
    "SELECT B.COMPANY_NAME, COUNT(A.JOB_LOCATION) AS POSITION_COUNT FROM JOBS_TBL A JOIN COMPANY_TBL B\n",
    "ON A.COMPANY_ID = B.COMPANY_ID\n",
    "WHERE A.JOB_LOCATION IS NOT NULL\n",
    "GROUP BY B.COMPANY_NAME\n",
    "ORDER BY 2 DESC\n",
    "FETCH NEXT 1 ROWS ONLY;"
   ]
  },
  {
   "cell_type": "markdown",
   "metadata": {},
   "source": [
    "#### UseCase 2 - Get a List of 'Software Engineering' Jobs\n",
    "\n",
    "SELECT A.JOB_POSITION AS JOBS FROM JOBS_TBL A WHERE  A.JOB_POSITION LIKE '%Software%';"
   ]
  },
  {
   "cell_type": "markdown",
   "metadata": {},
   "source": [
    "#### UseCase 3 - Get a List of  most recent postings Jobs\n",
    "SELECT JOB_POSITION FROM JOBS_TBL WHERE TO_DATE(POSTED_DATE, 'mm/dd/yyyy') > '21-MAR-2019';"
   ]
  },
  {
   "cell_type": "markdown",
   "metadata": {},
   "source": [
    "#### UseCase 4 - Get a list of all the internships \n",
    "\n",
    "SELECT JOB_POSITION FROM JOBS_TBL WHERE JOB_POSITION LIKE '%Intern%';"
   ]
  },
  {
   "cell_type": "markdown",
   "metadata": {},
   "source": [
    "#### UseCase 5 - Get a list of all the companies with remote jobs\n",
    "\n",
    "SELECT B.COMPANY_NAME, A.JOB_POSITION FROM JOBS_TBL A JOIN\n",
    "COMPANY_TBL B ON \n",
    "A.COMPANY_ID = B.COMPANY_ID\n",
    "WHERE A.JOB_LOCATION LIKE '%Remote%';"
   ]
  },
  {
   "cell_type": "markdown",
   "metadata": {},
   "source": [
    "#### UseCase 6 - Get the name of the company with more data related jobs\n",
    "\n",
    "SELECT B.COMPANY_NAME, COUNT(A.JOB_POSITION) AS POSITION_COUNT FROM JOBS_TBL A JOIN COMPANY_TBL B\n",
    "ON A.COMPANY_ID = B.COMPANY_ID\n",
    "WHERE LOWER(A.JOB_POSITION) LIKE '%data%'\n",
    "GROUP BY B.COMPANY_NAME\n",
    "ORDER BY 2 DESC\n",
    "FETCH NEXT 1 ROWS ONLY;"
   ]
  },
  {
   "cell_type": "markdown",
   "metadata": {},
   "source": [
    "#### UseCase 7 - Get the name of the company which is active on twitter, the company with most tweets\n",
    "\n",
    "SELECT B.COMPANY_NAME, COUNT(A.TWEET_ID) AS TWEET_COUNT FROM TWEETS_TBL A JOIN COMPANY_TBL B\n",
    "ON A.COMPANY_ID = B.COMPANY_ID\n",
    "GROUP BY B.COMPANY_NAME\n",
    "ORDER BY 2 DESC\n",
    "FETCH NEXT 1 ROWS ONLY;"
   ]
  },
  {
   "cell_type": "markdown",
   "metadata": {},
   "source": [
    "#### UseCase 8 - Get the AVERAGE rating_culture of the companies \n",
    "\n",
    "SELECT A.COMPANY_NAME, ROUND(AVG(B.RATING_CULTURE),2) FROM COMPANY_TBL A\n",
    "    JOIN GLASSDOOR_RATINGS B\n",
    "    ON A.COMPANY_ID = B.COMPANY_ID\n",
    "    GROUP BY A.COMPANY_NAME\n",
    "    ORDER BY 2 DESC;"
   ]
  },
  {
   "cell_type": "markdown",
   "metadata": {},
   "source": [
    "#### UseCase 9 - Get the names of the companies with the most youtube video views\n",
    "\n",
    "SELECT A.COMPANY_NAME, CAST(MAX(B.VIEW_COUNT) AS INT) FROM COMPANY_TBL A\n",
    "JOIN YOUTUBE_VIDEO_DATA B\n",
    "ON A.COMPANY_ID = B.COMPANY_ID\n",
    "GROUP BY A.COMPANY_NAME\n",
    "ORDER BY 2 DESC\n",
    "FETCH NEXT 10 ROWS ONLY\n",
    ";"
   ]
  },
  {
   "cell_type": "markdown",
   "metadata": {},
   "source": [
    "#### UseCase 10 - Get the name of the company with more video likes\n",
    "\n",
    "SELECT A.COMPANY_NAME, CAST(MAX(B.LIKE_COUNT) AS INT) FROM COMPANY_TBL A\n",
    "JOIN YOUTUBE_VIDEO_DATA B\n",
    "ON A.COMPANY_ID = B.COMPANY_ID\n",
    "GROUP BY A.COMPANY_NAME\n",
    "ORDER BY 2 DESC\n",
    "FETCH NEXT 1 ROWS ONLY\n",
    ";"
   ]
  },
  {
   "cell_type": "markdown",
   "metadata": {},
   "source": [
    "## FUNCTIONS"
   ]
  },
  {
   "cell_type": "markdown",
   "metadata": {},
   "source": [
    "#### Function 1 - Get the name of the company given COMPANY_ID\n",
    "CREATE OR REPLACE FUNCTION GET_COMPANY_NAME \n",
    "(\n",
    "  COMPANY_ID_IN IN VARCHAR2 \n",
    ", COMPANY_NAME_OUT OUT VARCHAR2 \n",
    ") RETURN VARCHAR2 AS \n",
    "BEGIN\n",
    "  SELECT COMPANY_NAME INTO COMPANY_NAME_OUT FROM COMPANY_TBL WHERE COMPANY_ID  = COMPANY_ID_IN  ;\n",
    "  RETURN COMPANY_NAME_OUT;\n",
    "END GET_COMPANY_NAME;"
   ]
  },
  {
   "cell_type": "markdown",
   "metadata": {},
   "source": [
    "#### Function 2 - Get the count of user followers given user_id - ex - 798908432\n",
    "\n",
    "CREATE OR REPLACE FUNCTION GET_USER_FOLLOWERS \n",
    "(\n",
    "  USER_ID_INPUT IN VARCHAR2 \n",
    ", USER_FOLLOWERS_OUTPUT OUT VARCHAR2 \n",
    ") RETURN VARCHAR2 AS \n",
    "BEGIN\n",
    "  SELECT USER_FOLLOWERS INTO USER_FOLLOWERS_OUTPUT FROM TWITTER_USER_DATA_TBL WHERE USER_ID = USER_ID_INPUT;\n",
    "  RETURN USER_FOLLOWERS_OUTPUT;\n",
    "END GET_USER_FOLLOWERS;"
   ]
  },
  {
   "cell_type": "markdown",
   "metadata": {},
   "source": [
    "#### Function 3 - Get the position name given the JOB_ID\n",
    "\n",
    "CREATE OR REPLACE FUNCTION GET_POSITION_NAME \n",
    "(\n",
    "  JOB_ID_IN IN VARCHAR2 \n",
    ", JOB_POSITION_OUT OUT VARCHAR2 \n",
    ") RETURN VARCHAR2 AS \n",
    "BEGIN\n",
    "  SELECT JOB_POSITION INTO JOB_POSITION_OUT FROM JOBS_TBL WHERE JOB_ID = JOB_ID_IN;\n",
    "  RETURN JOB_POSITION_OUT;\n",
    "END GET_POSITION_NAME;"
   ]
  },
  {
   "cell_type": "markdown",
   "metadata": {},
   "source": [
    "#### Function 4 - Get the url of the job given job_id\n",
    "\n",
    "CREATE OR REPLACE FUNCTION GET_URL \n",
    "(\n",
    "  JOB_ID_IN IN VARCHAR2 \n",
    ", JOB_URL_OUT OUT VARCHAR2 \n",
    ") RETURN VARCHAR2 AS \n",
    "BEGIN\n",
    "  SELECT JOB_URL INTO JOB_URL_OUT FROM JOBS_TBL WHERE JOB_ID = JOB_ID_IN;\n",
    "  RETURN JOB_URL_OUT;\n",
    "END GET_URL;"
   ]
  },
  {
   "cell_type": "markdown",
   "metadata": {},
   "source": [
    "## VIEWS"
   ]
  },
  {
   "cell_type": "markdown",
   "metadata": {},
   "source": [
    "#### View 1 - Get the TOP 10 rated companies and their average glass door ratings\n",
    "\n",
    "CREATE VIEW TOP_RATED_COMPANIES AS \n",
    "    SELECT A.COMPANY_NAME, ROUND(AVG(B.RATING_OVERALL),2) FROM COMPANY_TBL A\n",
    "    JOIN GLASSDOOR_RATINGS B\n",
    "    ON A.COMPANY_ID = B.COMPANY_ID\n",
    "    GROUP BY A.COMPANY_NAME\n",
    "    ORDER BY 2 DESC\n",
    "    FETCH NEXT 10 ROWS ONLY;"
   ]
  },
  {
   "cell_type": "markdown",
   "metadata": {},
   "source": [
    "#### View 2 - Get the company and their glass door pros - BOFA\n",
    "\n",
    "CREATE VIEW PROS_BOFA AS\n",
    "    SELECT A.COMPANY_NAME, B.PROS FROM COMPANY_TBL A\n",
    "    JOIN GLASSDOOR_REVIEWS B\n",
    "    ON A.COMPANY_ID = B.COMPANY_ID\n",
    "    AND A.COMPANY_NAME = 'Bank Of America';"
   ]
  },
  {
   "cell_type": "markdown",
   "metadata": {},
   "source": [
    "#### View 3 - Get the TOP 3 company with more reviews\n",
    "CREATE VIEW GET_TOP3_REVIEWS AS\n",
    "    SELECT A.COMPANY_NAME, COUNT(B.REVIEW_ID) FROM COMPANY_TBL A\n",
    "    JOIN GLASSDOOR_REVIEWS B\n",
    "    ON A.COMPANY_ID = B.COMPANY_ID\n",
    "    GROUP BY A.COMPANY_NAME\n",
    "    ORDER BY 2 DESC\n",
    "    FETCH NEXT 3 ROWS ONLY;"
   ]
  },
  {
   "cell_type": "markdown",
   "metadata": {},
   "source": [
    "#### View 4 - Get the company and their glass door ratings\n",
    "\n",
    "CREATE VIEW GET_TOP3_MGMT AS\n",
    "    SELECT A.COMPANY_NAME, ROUND(AVG(B.RATING_MGMT),2) FROM COMPANY_TBL A\n",
    "    JOIN GLASSDOOR_RATINGS B\n",
    "    ON A.COMPANY_ID = B.COMPANY_ID\n",
    "    GROUP BY A.COMPANY_NAME\n",
    "    ORDER BY 2 DESC\n",
    "    FETCH NEXT 3 ROWS ONLY\n",
    ";"
   ]
  }
 ],
 "metadata": {
  "kernelspec": {
   "display_name": "Python 3",
   "language": "python",
   "name": "python3"
  },
  "language_info": {
   "codemirror_mode": {
    "name": "ipython",
    "version": 3
   },
   "file_extension": ".py",
   "mimetype": "text/x-python",
   "name": "python",
   "nbconvert_exporter": "python",
   "pygments_lexer": "ipython3",
   "version": "3.6.7"
  }
 },
 "nbformat": 4,
 "nbformat_minor": 2
}
