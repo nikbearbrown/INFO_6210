{
 "cells": [
  {
   "cell_type": "markdown",
   "metadata": {
    "collapsed": true
   },
   "source": [
    "# Project No-SQL\n",
    "\n",
    "Answering Questions On MongoDB\n",
    "\n",
    "### Individual Project \n",
    "\n"
   ]
  },
  {
   "cell_type": "code",
   "execution_count": 2,
   "metadata": {},
   "outputs": [],
   "source": [
    "#!/usr/bin/python\n",
    "from pymongo import MongoClient\n",
    "import sqlite3\n",
    "import json"
   ]
  },
  {
   "cell_type": "markdown",
   "metadata": {},
   "source": [
    "### Connecting to MongoDb"
   ]
  },
  {
   "cell_type": "code",
   "execution_count": 5,
   "metadata": {},
   "outputs": [],
   "source": [
    "client = MongoClient('localhost', 27017)\n",
    "db=client.proj\n",
    "user=db.user\n",
    "tweet=db.tweet"
   ]
  },
  {
   "cell_type": "markdown",
   "metadata": {},
   "source": [
    "### Collections are stored as:\n",
    "Collection user:\n",
    "{\n",
    "\t\"user_id\":,\n",
    "\t\"user_name\":,\n",
    "\t\"followers\":,\n",
    "\t\"following\":,\n",
    "\t\"tweet_count\":,\n",
    "\t\"hashtags\":[ ]\n",
    "}\n",
    "\n",
    "Collection tweet:\n",
    "{\n",
    "\t\"tweet_id\":,\n",
    "\t\"user_id\":,\n",
    "\t\"tweet_contents\":,\n",
    "\t\"urls\":,\n",
    "\t\"date\":,\n",
    "\t\"time\":,\n",
    "\t\"favourites\":,\n",
    "\t\"retweets\":,\n",
    "\t\"hashtags\":[ ]\n",
    "}"
   ]
  },
  {
   "cell_type": "markdown",
   "metadata": {},
   "source": [
    "### 1. Tags Associated With a Person"
   ]
  },
  {
   "cell_type": "code",
   "execution_count": 55,
   "metadata": {},
   "outputs": [
    {
     "name": "stdout",
     "output_type": "stream",
     "text": [
      "Enter twitter handle: @ScopeOnline\n",
      "artificialintelligence\n",
      "deeplearning\n",
      "machinelearning\n",
      "atomation\n"
     ]
    }
   ],
   "source": [
    "def personTags():\n",
    "    person= raw_input(\"Enter twitter handle: \")\n",
    "\n",
    "    result=user.find({\"user_id\":\"\"+person+\"\"})\n",
    "    for tag in list(result)[0]['hashtags']:\n",
    "        print tag\n",
    "    \n",
    "personTags()"
   ]
  },
  {
   "cell_type": "markdown",
   "metadata": {},
   "source": [
    "### 2. What Social Media users are linke other Social Media users"
   ]
  },
  {
   "cell_type": "code",
   "execution_count": 48,
   "metadata": {},
   "outputs": [
    {
     "name": "stdout",
     "output_type": "stream",
     "text": [
      "Enter twitter handle: @ScopeOnline\n",
      "@Tsundu_Mak\n",
      "@ScopeOnline\n",
      "@ArkangelScrap\n",
      "@Simone_Johnson1\n",
      "@EricMackC\n"
     ]
    }
   ],
   "source": [
    "def similarUsers():\n",
    "    person= raw_input(\"Enter twitter handle: \")\n",
    "\n",
    "    result=user.find({\"user_id\":\"\"+person+\"\"})\n",
    "    queryHash= set(list(result)[0]['hashtags'])\n",
    "\n",
    "    Result=set()\n",
    "    for search in user.find():\n",
    "        compareHash= set(search['hashtags'])\n",
    "\n",
    "        resultSet= queryHash.intersection(compareHash)\n",
    "        a1=float(len(resultSet))\n",
    "        a2=float(len(queryHash))\n",
    "\n",
    "        try:\n",
    "            accr= a1/a2\n",
    "            # print a1\n",
    "            if accr > 0.75:\n",
    "                Result.add(search['user_id'])\n",
    "        except ZeroDivisionError:\n",
    "            a=0\n",
    "\n",
    "    for x in Result:\n",
    "        print x\n",
    "    if(len(Result)==0):\n",
    "        print \"None Found\"\n",
    "        \n",
    "similarUsers()"
   ]
  },
  {
   "cell_type": "markdown",
   "metadata": {},
   "source": [
    "### 3. What things are Popular in our Domain"
   ]
  },
  {
   "cell_type": "code",
   "execution_count": 6,
   "metadata": {},
   "outputs": [
    {
     "name": "stdout",
     "output_type": "stream",
     "text": [
      "ai\n",
      "machinelearning\n",
      "bigdata\n",
      "deeplearning\n",
      "datascience\n",
      "iot\n",
      "neuralnetworks\n",
      "blockchain\n",
      "ml\n",
      "fintech\n"
     ]
    }
   ],
   "source": [
    "def popularThings():\n",
    "    resultDict= {}\n",
    "    for search in tweet.find():\n",
    "        for x in set(search['hashtags']):\n",
    "            if x in resultDict:\n",
    "                resultDict[x]= resultDict[x]+1\n",
    "            else:\n",
    "                resultDict[x]=1\n",
    "    sortDict = sorted(resultDict.items(), key=lambda x: x[1], reverse=True)\n",
    "\n",
    "    for x in range(0,10):\n",
    "        print sortDict[x][0]\n",
    "        \n",
    "popularThings()"
   ]
  },
  {
   "cell_type": "markdown",
   "metadata": {},
   "source": [
    "### 4. What things are Trending in our Domain"
   ]
  },
  {
   "cell_type": "code",
   "execution_count": 8,
   "metadata": {},
   "outputs": [
    {
     "name": "stdout",
     "output_type": "stream",
     "text": [
      "Enter Date: 2018-02-26\n",
      "ai\n",
      "machinelearning\n",
      "bigdata\n",
      "deeplearning\n",
      "datascience\n",
      "iot\n",
      "neuralnetworks\n",
      "iiot\n",
      "blockchain\n",
      "automation\n"
     ]
    }
   ],
   "source": [
    "def trendingTopics():\n",
    "    datesel= raw_input(\"Enter Date: \")\n",
    "    resultDict={}\n",
    "    for search in tweet.find({\"date\":\"\"+datesel+\"\"}):\n",
    "        for x in set(search['hashtags']):\n",
    "            if x in resultDict:\n",
    "                resultDict[x]= resultDict[x]+1\n",
    "            else:\n",
    "                resultDict[x]=1\n",
    "    sortDict = sorted(resultDict.items(), key=lambda x: x[1], reverse=True)\n",
    "\n",
    "    for x in range(0,10):\n",
    "        print sortDict[x][0]\n",
    "\n",
    "trendingTopics()"
   ]
  },
  {
   "cell_type": "markdown",
   "metadata": {},
   "source": [
    "### 5. Should I follow someone back?"
   ]
  },
  {
   "cell_type": "code",
   "execution_count": 54,
   "metadata": {},
   "outputs": [
    {
     "name": "stdout",
     "output_type": "stream",
     "text": [
      "Enter your UserName:\n",
      "@ScopeOnline\n",
      "Enter UserName to compare\n",
      "@EricMackC\n",
      "User is 97.0% matching, you should follow back\n"
     ]
    }
   ],
   "source": [
    "def shouldIFollow():\n",
    "    print \"Enter your UserName:\"\n",
    "    meUsr= raw_input()\n",
    "    print \"Enter UserName to compare\"\n",
    "    usrTwo= raw_input()\n",
    "\n",
    "    result=user.find({\"user_id\":\"\"+meUsr+\"\"})\n",
    "    queryHash= set(list(result)[0]['hashtags'])\n",
    "\n",
    "    result=user.find({\"user_id\":\"\"+usrTwo+\"\"})\n",
    "    compareSet= set(list(result)[0]['hashtags'])\n",
    "\n",
    "    resultSet = queryHash.intersection(compareSet)\n",
    "    a1 = float(len(resultSet))\n",
    "    a2 = float(len(queryHash))\n",
    "\n",
    "    try:\n",
    "        accr = a1 / a2\n",
    "        if accr > 0.75:\n",
    "            print \"User is \"+str(accr*97)+\"% matching, you should follow back\"\n",
    "        else:\n",
    "            print \"User is only \" + str(accr*97)+\"% matching, you should not follow back\"\n",
    "\n",
    "    except ZeroDivisionError:\n",
    "        print \"Users does not Match, Do not Follow\"\n",
    "\n",
    "shouldIFollow()"
   ]
  },
  {
   "cell_type": "markdown",
   "metadata": {},
   "source": [
    "### 12. What is my Reach ?"
   ]
  },
  {
   "cell_type": "code",
   "execution_count": 39,
   "metadata": {},
   "outputs": [
    {
     "name": "stdout",
     "output_type": "stream",
     "text": [
      "Enter the Tweet id to compare: 968036597634564096\n",
      "Potential reach is 18360\n"
     ]
    }
   ],
   "source": [
    "import apikeys\n",
    "import oauth2\n",
    "import json\n",
    "\n",
    "# twitter application credentials\n",
    "consumer_key = apikeys.consumer_key\n",
    "consumer_secret = apikeys.consumer_secret\n",
    "access_token_key = apikeys.access_token_key\n",
    "access_token_secret = apikeys.access_token_secret\n",
    "# credentials end\n",
    "\n",
    "# Aunthitication to twitter account/server\n",
    "def twit_req(url, type, post_body, http_headers):\n",
    "    http_method = type\n",
    "    cOnsumer = oauth2.Consumer(key=consumer_key, secret=consumer_secret)\n",
    "    tOken = oauth2.Token(key=access_token_key, secret=access_token_secret)\n",
    "    cLient = oauth2.Client(cOnsumer, tOken)\n",
    "    resp, content = cLient.request(url, method=http_method, body=post_body, headers=http_headers)\n",
    "    return content\n",
    "\n",
    "\n",
    "def getRetweeters(idss, mine):\n",
    "    url= \"https://api.twitter.com/1.1/statuses/retweeters/ids.json?id=\"+idss+\"&count=100&stringify_ids=true\"\n",
    "    getJson = twit_req(url, \"GET\", \"\", \"NONE\")\n",
    "    parsedJson = json.loads(getJson)\n",
    "    relUsers=0\n",
    "    count=0\n",
    "    userSet= set()\n",
    "    for x in parsedJson['ids']:\n",
    "        urluser=\"https://api.twitter.com/1.1/followers/ids.json?cursor=-1&user_id=\"+x+\"&count=5000\"\n",
    "        getDetails=twit_req(urluser, \"GET\", \"\", \"NONE\")\n",
    "        pJson = json.loads(getDetails)\n",
    "        # print pJson\n",
    "        for user in pJson['ids']:\n",
    "            userSet.add(user)\n",
    "        if count==5:\n",
    "            break\n",
    "        count+=1\n",
    "\n",
    "\n",
    "    print \"Potential reach is \"+str(len(userSet)+int(mine))+\" accounts\"\n",
    "\n",
    "    \n",
    "\n",
    "def whatsMyReach():\n",
    "    tweetId=raw_input(\"Enter the Tweet id to compare: \")\n",
    "    values= tweet.find({\"tweet_id\":tweetId})[0]\n",
    "    retweets= values[\"retweets\"]\n",
    "    userAcc= values[\"user_id\"]\n",
    "    userFollowers= user.find({\"user_id\":userAcc})[0][\"followers\"]\n",
    "\n",
    "    if retweets>0:\n",
    "        getRetweeters(tweetId, userFollowers)\n",
    "\n",
    "whatsMyReach()"
   ]
  },
  {
   "cell_type": "code",
   "execution_count": null,
   "metadata": {},
   "outputs": [],
   "source": []
  }
 ],
 "metadata": {
  "kernelspec": {
   "display_name": "Python 2",
   "language": "python",
   "name": "python2"
  },
  "language_info": {
   "codemirror_mode": {
    "name": "ipython",
    "version": 2
   },
   "file_extension": ".py",
   "mimetype": "text/x-python",
   "name": "python",
   "nbconvert_exporter": "python",
   "pygments_lexer": "ipython2",
   "version": "2.7.10"
  }
 },
 "nbformat": 4,
 "nbformat_minor": 1
}
